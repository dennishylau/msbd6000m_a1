{
 "cells": [
  {
   "cell_type": "markdown",
   "metadata": {},
   "source": [
    "# Case 1: Risky Asset always better\n",
    "Condition: a > r & b > r"
   ]
  },
  {
   "cell_type": "code",
   "execution_count": 35,
   "metadata": {},
   "outputs": [
    {
     "name": "stderr",
     "output_type": "stream",
     "text": [
      "  0%|          | 65/20000 [00:00<01:02, 319.60it/s]"
     ]
    },
    {
     "name": "stdout",
     "output_type": "stream",
     "text": [
      "Epoch: 0\n",
      "Alpha: 0.010000, Epsilon: 0.299982.\n"
     ]
    },
    {
     "name": "stderr",
     "output_type": "stream",
     "text": [
      "  5%|▌         | 1067/20000 [00:03<00:54, 345.25it/s]"
     ]
    },
    {
     "name": "stdout",
     "output_type": "stream",
     "text": [
      "Epoch: 1000\n",
      "Alpha: 0.009500, Epsilon: 0.281982.\n",
      "Last 10 max delta mean: 0.001377.\n"
     ]
    },
    {
     "name": "stderr",
     "output_type": "stream",
     "text": [
      " 10%|█         | 2042/20000 [00:05<00:51, 347.50it/s]"
     ]
    },
    {
     "name": "stdout",
     "output_type": "stream",
     "text": [
      "Epoch: 2000\n",
      "Alpha: 0.009000, Epsilon: 0.263982.\n",
      "Last 10 max delta mean: 0.000614.\n"
     ]
    },
    {
     "name": "stderr",
     "output_type": "stream",
     "text": [
      " 15%|█▌        | 3045/20000 [00:08<00:49, 344.97it/s]"
     ]
    },
    {
     "name": "stdout",
     "output_type": "stream",
     "text": [
      "Epoch: 3000\n",
      "Alpha: 0.008500, Epsilon: 0.245982.\n",
      "Last 10 max delta mean: 0.000359.\n"
     ]
    },
    {
     "name": "stderr",
     "output_type": "stream",
     "text": [
      " 20%|██        | 4053/20000 [00:11<00:44, 354.91it/s]"
     ]
    },
    {
     "name": "stdout",
     "output_type": "stream",
     "text": [
      "Epoch: 4000\n",
      "Alpha: 0.008000, Epsilon: 0.227982.\n",
      "Last 10 max delta mean: 0.000371.\n"
     ]
    },
    {
     "name": "stderr",
     "output_type": "stream",
     "text": [
      " 25%|██▌       | 5056/20000 [00:14<00:42, 349.94it/s]"
     ]
    },
    {
     "name": "stdout",
     "output_type": "stream",
     "text": [
      "Epoch: 5000\n",
      "Alpha: 0.007500, Epsilon: 0.209982.\n",
      "Last 10 max delta mean: 0.000310.\n"
     ]
    },
    {
     "name": "stderr",
     "output_type": "stream",
     "text": [
      " 27%|██▋       | 5357/20000 [00:15<00:42, 345.11it/s]"
     ]
    },
    {
     "name": "stdout",
     "output_type": "stream",
     "text": [
      "Converged. Total Epochs: 5357.\n",
      "Last 10 max delta mean: 0.000197.\n"
     ]
    },
    {
     "name": "stderr",
     "output_type": "stream",
     "text": [
      "\n"
     ]
    },
    {
     "data": {
      "text/html": [
       "<div>\n",
       "<style scoped>\n",
       "    .dataframe tbody tr th:only-of-type {\n",
       "        vertical-align: middle;\n",
       "    }\n",
       "\n",
       "    .dataframe tbody tr th {\n",
       "        vertical-align: top;\n",
       "    }\n",
       "\n",
       "    .dataframe thead th {\n",
       "        text-align: right;\n",
       "    }\n",
       "</style>\n",
       "<table border=\"1\" class=\"dataframe\">\n",
       "  <thead>\n",
       "    <tr style=\"text-align: right;\">\n",
       "      <th></th>\n",
       "      <th>0.00</th>\n",
       "      <th>0.20</th>\n",
       "      <th>0.40</th>\n",
       "      <th>0.60</th>\n",
       "      <th>0.80</th>\n",
       "      <th>1.00</th>\n",
       "    </tr>\n",
       "  </thead>\n",
       "  <tbody>\n",
       "    <tr>\n",
       "      <th>0</th>\n",
       "      <td>-0.596708</td>\n",
       "      <td>-0.592095</td>\n",
       "      <td>-0.589359</td>\n",
       "      <td>-0.586241</td>\n",
       "      <td>-0.581990</td>\n",
       "      <td>-0.577446</td>\n",
       "    </tr>\n",
       "    <tr>\n",
       "      <th>1</th>\n",
       "      <td>-0.529349</td>\n",
       "      <td>-0.524054</td>\n",
       "      <td>-0.520353</td>\n",
       "      <td>-0.515168</td>\n",
       "      <td>-0.511318</td>\n",
       "      <td>-0.504321</td>\n",
       "    </tr>\n",
       "    <tr>\n",
       "      <th>2</th>\n",
       "      <td>-0.461472</td>\n",
       "      <td>-0.457848</td>\n",
       "      <td>-0.452351</td>\n",
       "      <td>-0.448635</td>\n",
       "      <td>-0.443722</td>\n",
       "      <td>-0.433624</td>\n",
       "    </tr>\n",
       "    <tr>\n",
       "      <th>3</th>\n",
       "      <td>-0.396842</td>\n",
       "      <td>-0.392082</td>\n",
       "      <td>-0.385308</td>\n",
       "      <td>-0.387641</td>\n",
       "      <td>-0.384292</td>\n",
       "      <td>-0.365803</td>\n",
       "    </tr>\n",
       "    <tr>\n",
       "      <th>4</th>\n",
       "      <td>-0.334894</td>\n",
       "      <td>-0.331370</td>\n",
       "      <td>-0.326327</td>\n",
       "      <td>-0.328803</td>\n",
       "      <td>-0.322325</td>\n",
       "      <td>-0.305294</td>\n",
       "    </tr>\n",
       "    <tr>\n",
       "      <th>5</th>\n",
       "      <td>-0.279195</td>\n",
       "      <td>-0.273424</td>\n",
       "      <td>-0.270060</td>\n",
       "      <td>-0.272802</td>\n",
       "      <td>-0.266629</td>\n",
       "      <td>-0.246743</td>\n",
       "    </tr>\n",
       "    <tr>\n",
       "      <th>6</th>\n",
       "      <td>-0.226582</td>\n",
       "      <td>-0.223883</td>\n",
       "      <td>-0.220670</td>\n",
       "      <td>-0.214492</td>\n",
       "      <td>-0.214919</td>\n",
       "      <td>-0.194915</td>\n",
       "    </tr>\n",
       "    <tr>\n",
       "      <th>7</th>\n",
       "      <td>-0.174355</td>\n",
       "      <td>-0.173222</td>\n",
       "      <td>-0.175364</td>\n",
       "      <td>-0.171043</td>\n",
       "      <td>-0.164476</td>\n",
       "      <td>-0.148268</td>\n",
       "    </tr>\n",
       "    <tr>\n",
       "      <th>8</th>\n",
       "      <td>-0.127899</td>\n",
       "      <td>-0.123666</td>\n",
       "      <td>-0.122466</td>\n",
       "      <td>-0.120169</td>\n",
       "      <td>-0.115593</td>\n",
       "      <td>-0.103102</td>\n",
       "    </tr>\n",
       "    <tr>\n",
       "      <th>9</th>\n",
       "      <td>-0.075325</td>\n",
       "      <td>-0.074165</td>\n",
       "      <td>-0.072323</td>\n",
       "      <td>-0.070595</td>\n",
       "      <td>-0.066795</td>\n",
       "      <td>-0.056589</td>\n",
       "    </tr>\n",
       "    <tr>\n",
       "      <th>10</th>\n",
       "      <td>0.000000</td>\n",
       "      <td>0.000000</td>\n",
       "      <td>0.000000</td>\n",
       "      <td>0.000000</td>\n",
       "      <td>0.000000</td>\n",
       "      <td>0.000000</td>\n",
       "    </tr>\n",
       "  </tbody>\n",
       "</table>\n",
       "</div>"
      ],
      "text/plain": [
       "        0.00      0.20      0.40      0.60      0.80      1.00\n",
       "0  -0.596708 -0.592095 -0.589359 -0.586241 -0.581990 -0.577446\n",
       "1  -0.529349 -0.524054 -0.520353 -0.515168 -0.511318 -0.504321\n",
       "2  -0.461472 -0.457848 -0.452351 -0.448635 -0.443722 -0.433624\n",
       "3  -0.396842 -0.392082 -0.385308 -0.387641 -0.384292 -0.365803\n",
       "4  -0.334894 -0.331370 -0.326327 -0.328803 -0.322325 -0.305294\n",
       "5  -0.279195 -0.273424 -0.270060 -0.272802 -0.266629 -0.246743\n",
       "6  -0.226582 -0.223883 -0.220670 -0.214492 -0.214919 -0.194915\n",
       "7  -0.174355 -0.173222 -0.175364 -0.171043 -0.164476 -0.148268\n",
       "8  -0.127899 -0.123666 -0.122466 -0.120169 -0.115593 -0.103102\n",
       "9  -0.075325 -0.074165 -0.072323 -0.070595 -0.066795 -0.056589\n",
       "10  0.000000  0.000000  0.000000  0.000000  0.000000  0.000000"
      ]
     },
     "metadata": {},
     "output_type": "display_data"
    },
    {
     "name": "stdout",
     "output_type": "stream",
     "text": [
      "Optimal policy:\n",
      "0     1.00\n",
      "1     1.00\n",
      "2     1.00\n",
      "3     1.00\n",
      "4     1.00\n",
      "5     1.00\n",
      "6     1.00\n",
      "7     1.00\n",
      "8     1.00\n",
      "9     1.00\n",
      "10    0.00\n",
      "dtype: object\n"
     ]
    }
   ],
   "source": [
    "from mdp_agent.policy import Policy\n",
    "from mdp_agent.action_space import ActionSpace\n",
    "from mdp_env.risky_asset import RiskyAsset\n",
    "from mdp_env.risk_free_asset import RiskFreeAsset\n",
    "from mdp_env.train import train\n",
    "from mdp_env.reward import reward_eval\n",
    "import numpy as np\n",
    "from decimal import Decimal\n",
    "\n",
    "\n",
    "# Parameters Configuration\n",
    "EPOCHS = 20000\n",
    "# Total time periods\n",
    "T = 10\n",
    "# init for epsilon-greedy\n",
    "INIT_EPSILON = 0.3\n",
    "# init for learning rate\n",
    "INIT_ALPHA = 0.01\n",
    "# state space: this is dependent on time, per section 8.4 of Rao and Jelvis.\n",
    "states = np.arange(0, T + 1, 1)\n",
    "# action space\n",
    "actions = ActionSpace(\n",
    "    Decimal(\"0\"),\n",
    "    Decimal(\"1.0\"),\n",
    "    Decimal(\"0.2\"))\n",
    "# policy\n",
    "policy = Policy(\n",
    "    epochs=EPOCHS,\n",
    "    init_epsilon=INIT_EPSILON,\n",
    "    init_alpha=INIT_ALPHA,\n",
    "    state_space=states,\n",
    "    action_space=actions,\n",
    "    training=True\n",
    ")\n",
    "# assets\n",
    "risky_asset = RiskyAsset(0.15, 0.1, 0.5)\n",
    "risk_free_asset = RiskFreeAsset(0.04)\n",
    "# CARA Coefficient\n",
    "CARA_COEF = 1\n",
    "\n",
    "\n",
    "train(\n",
    "    epochs=EPOCHS,\n",
    "    T=T,\n",
    "    risky_asset=risky_asset,\n",
    "    risk_free_asset=risk_free_asset,\n",
    "    policy=policy,\n",
    "    reward_eval=reward_eval,\n",
    "    cara_coef=CARA_COEF,\n",
    "    early_stopping=2e-4\n",
    ")\n",
    "\n",
    "display(policy.q_table)\n",
    "\n",
    "print(\"Optimal policy:\")\n",
    "policy.print()\n"
   ]
  },
  {
   "cell_type": "markdown",
   "metadata": {},
   "source": [
    "# Case 2: Risk-Free Asset always better\n",
    "Condition: a < r & b < r"
   ]
  },
  {
   "cell_type": "code",
   "execution_count": 36,
   "metadata": {},
   "outputs": [
    {
     "name": "stderr",
     "output_type": "stream",
     "text": [
      "  0%|          | 66/20000 [00:00<01:01, 326.42it/s]"
     ]
    },
    {
     "name": "stdout",
     "output_type": "stream",
     "text": [
      "Epoch: 0\n",
      "Alpha: 0.010000, Epsilon: 0.299982.\n"
     ]
    },
    {
     "name": "stderr",
     "output_type": "stream",
     "text": [
      "  6%|▌         | 1104/20000 [00:03<00:52, 359.47it/s]"
     ]
    },
    {
     "name": "stdout",
     "output_type": "stream",
     "text": [
      "Epoch: 1000\n",
      "Alpha: 0.009500, Epsilon: 0.281982.\n",
      "Last 10 max delta mean: 0.001894.\n"
     ]
    },
    {
     "name": "stderr",
     "output_type": "stream",
     "text": [
      " 10%|█         | 2045/20000 [00:05<00:49, 359.17it/s]"
     ]
    },
    {
     "name": "stdout",
     "output_type": "stream",
     "text": [
      "Epoch: 2000\n",
      "Alpha: 0.009000, Epsilon: 0.263982.\n",
      "Last 10 max delta mean: 0.000918.\n"
     ]
    },
    {
     "name": "stderr",
     "output_type": "stream",
     "text": [
      " 15%|█▌        | 3041/20000 [00:08<00:50, 336.58it/s]"
     ]
    },
    {
     "name": "stdout",
     "output_type": "stream",
     "text": [
      "Epoch: 3000\n",
      "Alpha: 0.008500, Epsilon: 0.245982.\n",
      "Last 10 max delta mean: 0.000583.\n"
     ]
    },
    {
     "name": "stderr",
     "output_type": "stream",
     "text": [
      " 20%|██        | 4069/20000 [00:11<00:44, 354.81it/s]"
     ]
    },
    {
     "name": "stdout",
     "output_type": "stream",
     "text": [
      "Epoch: 4000\n",
      "Alpha: 0.008000, Epsilon: 0.227982.\n",
      "Last 10 max delta mean: 0.000765.\n"
     ]
    },
    {
     "name": "stderr",
     "output_type": "stream",
     "text": [
      " 25%|██▌       | 5053/20000 [00:14<00:41, 360.58it/s]"
     ]
    },
    {
     "name": "stdout",
     "output_type": "stream",
     "text": [
      "Epoch: 5000\n",
      "Alpha: 0.007500, Epsilon: 0.209982.\n",
      "Last 10 max delta mean: 0.000602.\n"
     ]
    },
    {
     "name": "stderr",
     "output_type": "stream",
     "text": [
      " 30%|███       | 6037/20000 [00:17<00:39, 351.43it/s]"
     ]
    },
    {
     "name": "stdout",
     "output_type": "stream",
     "text": [
      "Epoch: 6000\n",
      "Alpha: 0.007000, Epsilon: 0.191982.\n",
      "Last 10 max delta mean: 0.000537.\n"
     ]
    },
    {
     "name": "stderr",
     "output_type": "stream",
     "text": [
      " 35%|███▌      | 7052/20000 [00:20<00:36, 356.47it/s]"
     ]
    },
    {
     "name": "stdout",
     "output_type": "stream",
     "text": [
      "Epoch: 7000\n",
      "Alpha: 0.006500, Epsilon: 0.173982.\n",
      "Last 10 max delta mean: 0.000413.\n"
     ]
    },
    {
     "name": "stderr",
     "output_type": "stream",
     "text": [
      " 40%|████      | 8068/20000 [00:22<00:34, 349.24it/s]"
     ]
    },
    {
     "name": "stdout",
     "output_type": "stream",
     "text": [
      "Epoch: 8000\n",
      "Alpha: 0.006000, Epsilon: 0.155982.\n",
      "Last 10 max delta mean: 0.000457.\n"
     ]
    },
    {
     "name": "stderr",
     "output_type": "stream",
     "text": [
      " 45%|████▌     | 9047/20000 [00:25<00:30, 354.34it/s]"
     ]
    },
    {
     "name": "stdout",
     "output_type": "stream",
     "text": [
      "Epoch: 9000\n",
      "Alpha: 0.005500, Epsilon: 0.137982.\n",
      "Last 10 max delta mean: 0.000416.\n"
     ]
    },
    {
     "name": "stderr",
     "output_type": "stream",
     "text": [
      " 50%|█████     | 10046/20000 [00:28<00:28, 353.14it/s]"
     ]
    },
    {
     "name": "stdout",
     "output_type": "stream",
     "text": [
      "Epoch: 10000\n",
      "Alpha: 0.005000, Epsilon: 0.119982.\n",
      "Last 10 max delta mean: 0.000394.\n"
     ]
    },
    {
     "name": "stderr",
     "output_type": "stream",
     "text": [
      " 55%|█████▌    | 11061/20000 [00:31<00:25, 350.94it/s]"
     ]
    },
    {
     "name": "stdout",
     "output_type": "stream",
     "text": [
      "Epoch: 11000\n",
      "Alpha: 0.004500, Epsilon: 0.101982.\n",
      "Last 10 max delta mean: 0.000474.\n"
     ]
    },
    {
     "name": "stderr",
     "output_type": "stream",
     "text": [
      " 60%|██████    | 12041/20000 [00:34<00:22, 354.48it/s]"
     ]
    },
    {
     "name": "stdout",
     "output_type": "stream",
     "text": [
      "Epoch: 12000\n",
      "Alpha: 0.004000, Epsilon: 0.083982.\n",
      "Last 10 max delta mean: 0.000431.\n"
     ]
    },
    {
     "name": "stderr",
     "output_type": "stream",
     "text": [
      " 65%|██████▌   | 13044/20000 [00:37<00:19, 349.22it/s]"
     ]
    },
    {
     "name": "stdout",
     "output_type": "stream",
     "text": [
      "Epoch: 13000\n",
      "Alpha: 0.003500, Epsilon: 0.065982.\n",
      "Last 10 max delta mean: 0.000418.\n"
     ]
    },
    {
     "name": "stderr",
     "output_type": "stream",
     "text": [
      " 70%|███████   | 14058/20000 [00:40<00:16, 351.14it/s]"
     ]
    },
    {
     "name": "stdout",
     "output_type": "stream",
     "text": [
      "Epoch: 14000\n",
      "Alpha: 0.003000, Epsilon: 0.047982.\n",
      "Last 10 max delta mean: 0.000405.\n"
     ]
    },
    {
     "name": "stderr",
     "output_type": "stream",
     "text": [
      " 75%|███████▌  | 15068/20000 [00:42<00:14, 340.54it/s]"
     ]
    },
    {
     "name": "stdout",
     "output_type": "stream",
     "text": [
      "Epoch: 15000\n",
      "Alpha: 0.002500, Epsilon: 0.029982.\n",
      "Last 10 max delta mean: 0.000344.\n"
     ]
    },
    {
     "name": "stderr",
     "output_type": "stream",
     "text": [
      " 80%|████████  | 16068/20000 [00:45<00:11, 356.33it/s]"
     ]
    },
    {
     "name": "stdout",
     "output_type": "stream",
     "text": [
      "Epoch: 16000\n",
      "Alpha: 0.002000, Epsilon: 0.011982.\n",
      "Last 10 max delta mean: 0.000455.\n"
     ]
    },
    {
     "name": "stderr",
     "output_type": "stream",
     "text": [
      " 85%|████████▌ | 17048/20000 [00:48<00:08, 352.65it/s]"
     ]
    },
    {
     "name": "stdout",
     "output_type": "stream",
     "text": [
      "Epoch: 17000\n",
      "Alpha: 0.001500, Epsilon: 0.000000.\n",
      "Last 10 max delta mean: 0.000347.\n"
     ]
    },
    {
     "name": "stderr",
     "output_type": "stream",
     "text": [
      " 90%|█████████ | 18062/20000 [00:51<00:05, 348.67it/s]"
     ]
    },
    {
     "name": "stdout",
     "output_type": "stream",
     "text": [
      "Epoch: 18000\n",
      "Alpha: 0.001000, Epsilon: 0.000000.\n",
      "Last 10 max delta mean: 0.000375.\n"
     ]
    },
    {
     "name": "stderr",
     "output_type": "stream",
     "text": [
      " 95%|█████████▌| 19041/20000 [00:54<00:02, 355.99it/s]"
     ]
    },
    {
     "name": "stdout",
     "output_type": "stream",
     "text": [
      "Epoch: 19000\n",
      "Alpha: 0.000500, Epsilon: 0.000000.\n",
      "Last 10 max delta mean: 0.000437.\n"
     ]
    },
    {
     "name": "stderr",
     "output_type": "stream",
     "text": [
      "100%|██████████| 20000/20000 [00:57<00:00, 350.59it/s]\n"
     ]
    },
    {
     "data": {
      "text/html": [
       "<div>\n",
       "<style scoped>\n",
       "    .dataframe tbody tr th:only-of-type {\n",
       "        vertical-align: middle;\n",
       "    }\n",
       "\n",
       "    .dataframe tbody tr th {\n",
       "        vertical-align: top;\n",
       "    }\n",
       "\n",
       "    .dataframe thead th {\n",
       "        text-align: right;\n",
       "    }\n",
       "</style>\n",
       "<table border=\"1\" class=\"dataframe\">\n",
       "  <thead>\n",
       "    <tr style=\"text-align: right;\">\n",
       "      <th></th>\n",
       "      <th>0.00</th>\n",
       "      <th>0.20</th>\n",
       "      <th>0.40</th>\n",
       "      <th>0.60</th>\n",
       "      <th>0.80</th>\n",
       "      <th>1.00</th>\n",
       "    </tr>\n",
       "  </thead>\n",
       "  <tbody>\n",
       "    <tr>\n",
       "      <th>0</th>\n",
       "      <td>-0.689948</td>\n",
       "      <td>-0.697319</td>\n",
       "      <td>-0.706563</td>\n",
       "      <td>-0.714205</td>\n",
       "      <td>-0.723433</td>\n",
       "      <td>-0.731066</td>\n",
       "    </tr>\n",
       "    <tr>\n",
       "      <th>1</th>\n",
       "      <td>-0.674113</td>\n",
       "      <td>-0.679329</td>\n",
       "      <td>-0.689386</td>\n",
       "      <td>-0.695875</td>\n",
       "      <td>-0.704315</td>\n",
       "      <td>-0.716018</td>\n",
       "    </tr>\n",
       "    <tr>\n",
       "      <th>2</th>\n",
       "      <td>-0.655483</td>\n",
       "      <td>-0.663037</td>\n",
       "      <td>-0.671594</td>\n",
       "      <td>-0.679666</td>\n",
       "      <td>-0.688509</td>\n",
       "      <td>-0.696803</td>\n",
       "    </tr>\n",
       "    <tr>\n",
       "      <th>3</th>\n",
       "      <td>-0.637858</td>\n",
       "      <td>-0.646252</td>\n",
       "      <td>-0.653583</td>\n",
       "      <td>-0.660752</td>\n",
       "      <td>-0.669830</td>\n",
       "      <td>-0.681422</td>\n",
       "    </tr>\n",
       "    <tr>\n",
       "      <th>4</th>\n",
       "      <td>-0.617531</td>\n",
       "      <td>-0.625028</td>\n",
       "      <td>-0.629117</td>\n",
       "      <td>-0.640970</td>\n",
       "      <td>-0.647730</td>\n",
       "      <td>-0.656570</td>\n",
       "    </tr>\n",
       "    <tr>\n",
       "      <th>5</th>\n",
       "      <td>-0.591614</td>\n",
       "      <td>-0.603755</td>\n",
       "      <td>-0.604291</td>\n",
       "      <td>-0.614931</td>\n",
       "      <td>-0.623818</td>\n",
       "      <td>-0.631360</td>\n",
       "    </tr>\n",
       "    <tr>\n",
       "      <th>6</th>\n",
       "      <td>-0.558573</td>\n",
       "      <td>-0.568181</td>\n",
       "      <td>-0.577657</td>\n",
       "      <td>-0.584577</td>\n",
       "      <td>-0.592263</td>\n",
       "      <td>-0.601301</td>\n",
       "    </tr>\n",
       "    <tr>\n",
       "      <th>7</th>\n",
       "      <td>-0.509092</td>\n",
       "      <td>-0.519821</td>\n",
       "      <td>-0.526946</td>\n",
       "      <td>-0.530812</td>\n",
       "      <td>-0.542976</td>\n",
       "      <td>-0.547417</td>\n",
       "    </tr>\n",
       "    <tr>\n",
       "      <th>8</th>\n",
       "      <td>-0.426714</td>\n",
       "      <td>-0.436381</td>\n",
       "      <td>-0.444967</td>\n",
       "      <td>-0.450259</td>\n",
       "      <td>-0.461273</td>\n",
       "      <td>-0.471346</td>\n",
       "    </tr>\n",
       "    <tr>\n",
       "      <th>9</th>\n",
       "      <td>-0.278527</td>\n",
       "      <td>-0.288566</td>\n",
       "      <td>-0.301872</td>\n",
       "      <td>-0.308788</td>\n",
       "      <td>-0.312100</td>\n",
       "      <td>-0.316343</td>\n",
       "    </tr>\n",
       "    <tr>\n",
       "      <th>10</th>\n",
       "      <td>0.000000</td>\n",
       "      <td>0.000000</td>\n",
       "      <td>0.000000</td>\n",
       "      <td>0.000000</td>\n",
       "      <td>0.000000</td>\n",
       "      <td>0.000000</td>\n",
       "    </tr>\n",
       "  </tbody>\n",
       "</table>\n",
       "</div>"
      ],
      "text/plain": [
       "        0.00      0.20      0.40      0.60      0.80      1.00\n",
       "0  -0.689948 -0.697319 -0.706563 -0.714205 -0.723433 -0.731066\n",
       "1  -0.674113 -0.679329 -0.689386 -0.695875 -0.704315 -0.716018\n",
       "2  -0.655483 -0.663037 -0.671594 -0.679666 -0.688509 -0.696803\n",
       "3  -0.637858 -0.646252 -0.653583 -0.660752 -0.669830 -0.681422\n",
       "4  -0.617531 -0.625028 -0.629117 -0.640970 -0.647730 -0.656570\n",
       "5  -0.591614 -0.603755 -0.604291 -0.614931 -0.623818 -0.631360\n",
       "6  -0.558573 -0.568181 -0.577657 -0.584577 -0.592263 -0.601301\n",
       "7  -0.509092 -0.519821 -0.526946 -0.530812 -0.542976 -0.547417\n",
       "8  -0.426714 -0.436381 -0.444967 -0.450259 -0.461273 -0.471346\n",
       "9  -0.278527 -0.288566 -0.301872 -0.308788 -0.312100 -0.316343\n",
       "10  0.000000  0.000000  0.000000  0.000000  0.000000  0.000000"
      ]
     },
     "metadata": {},
     "output_type": "display_data"
    },
    {
     "name": "stdout",
     "output_type": "stream",
     "text": [
      "Optimal policy:\n",
      "0     0.00\n",
      "1     0.00\n",
      "2     0.00\n",
      "3     0.00\n",
      "4     0.00\n",
      "5     0.00\n",
      "6     0.00\n",
      "7     0.00\n",
      "8     0.00\n",
      "9     0.00\n",
      "10    0.00\n",
      "dtype: object\n"
     ]
    }
   ],
   "source": [
    "from mdp_agent.policy import Policy\n",
    "from mdp_agent.action_space import ActionSpace\n",
    "from mdp_env.risky_asset import RiskyAsset\n",
    "from mdp_env.risk_free_asset import RiskFreeAsset\n",
    "from mdp_env.train import train\n",
    "from mdp_env.reward import reward_eval\n",
    "import numpy as np\n",
    "from decimal import Decimal\n",
    "\n",
    "\n",
    "# Parameters Configuration\n",
    "EPOCHS = 20000\n",
    "# Total time periods\n",
    "T = 10\n",
    "# init for epsilon-greedy\n",
    "INIT_EPSILON = 0.3\n",
    "# init for learning rate\n",
    "INIT_ALPHA = 0.01\n",
    "# state space: this is dependent on time, per section 8.4 of Rao and Jelvis.\n",
    "states = np.arange(0, T + 1, 1)\n",
    "# action space\n",
    "actions = ActionSpace(\n",
    "    Decimal(\"0\"),\n",
    "    Decimal(\"1.0\"),\n",
    "    Decimal(\"0.2\"))\n",
    "# policy\n",
    "policy = Policy(\n",
    "    epochs=EPOCHS,\n",
    "    init_epsilon=INIT_EPSILON,\n",
    "    init_alpha=INIT_ALPHA,\n",
    "    state_space=states,\n",
    "    action_space=actions,\n",
    "    training=True\n",
    ")\n",
    "# assets\n",
    "risky_asset = RiskyAsset(-0.04, -0.10, 0.5)\n",
    "risk_free_asset = RiskFreeAsset(0.04)\n",
    "# CARA Coefficient\n",
    "CARA_COEF = 1\n",
    "\n",
    "\n",
    "train(\n",
    "    epochs=EPOCHS,\n",
    "    T=T,\n",
    "    risky_asset=risky_asset,\n",
    "    risk_free_asset=risk_free_asset,\n",
    "    policy=policy,\n",
    "    reward_eval=reward_eval,\n",
    "    cara_coef=CARA_COEF,\n",
    "    early_stopping=1e-4\n",
    ")\n",
    "\n",
    "display(policy.q_table)\n",
    "\n",
    "print(\"Optimal policy:\")\n",
    "policy.print()\n"
   ]
  },
  {
   "cell_type": "markdown",
   "metadata": {},
   "source": [
    "# Case 3: Risky Asset expected return same as Risk-Free Rate\n",
    "Condition: (a > r) & (b < r) & (a == -b) & (ap + b(1-p) == r)"
   ]
  },
  {
   "cell_type": "code",
   "execution_count": null,
   "metadata": {},
   "outputs": [
    {
     "name": "stderr",
     "output_type": "stream",
     "text": [
      "  0%|          | 67/20000 [00:00<01:00, 330.80it/s]"
     ]
    },
    {
     "name": "stdout",
     "output_type": "stream",
     "text": [
      "Epoch: 0\n",
      "Alpha: 0.010000, Epsilon: 0.299982.\n"
     ]
    },
    {
     "name": "stderr",
     "output_type": "stream",
     "text": [
      "  5%|▌         | 1067/20000 [00:03<00:55, 343.65it/s]"
     ]
    },
    {
     "name": "stdout",
     "output_type": "stream",
     "text": [
      "Epoch: 1000\n",
      "Alpha: 0.009500, Epsilon: 0.281982.\n",
      "Last 10 max delta mean: 0.001583.\n"
     ]
    },
    {
     "name": "stderr",
     "output_type": "stream",
     "text": [
      " 10%|█         | 2066/20000 [00:06<00:51, 345.96it/s]"
     ]
    },
    {
     "name": "stdout",
     "output_type": "stream",
     "text": [
      "Epoch: 2000\n",
      "Alpha: 0.009000, Epsilon: 0.263982.\n",
      "Last 10 max delta mean: 0.000774.\n"
     ]
    },
    {
     "name": "stderr",
     "output_type": "stream",
     "text": [
      " 15%|█▌        | 3063/20000 [00:08<00:49, 343.05it/s]"
     ]
    },
    {
     "name": "stdout",
     "output_type": "stream",
     "text": [
      "Epoch: 3000\n",
      "Alpha: 0.008500, Epsilon: 0.245982.\n",
      "Last 10 max delta mean: 0.000404.\n"
     ]
    },
    {
     "name": "stderr",
     "output_type": "stream",
     "text": [
      " 21%|██        | 4107/20000 [00:11<00:44, 356.39it/s]"
     ]
    },
    {
     "name": "stdout",
     "output_type": "stream",
     "text": [
      "Epoch: 4000\n",
      "Alpha: 0.008000, Epsilon: 0.227982.\n",
      "Last 10 max delta mean: 0.000330.\n"
     ]
    },
    {
     "name": "stderr",
     "output_type": "stream",
     "text": [
      " 25%|██▌       | 5039/20000 [00:14<00:43, 347.57it/s]"
     ]
    },
    {
     "name": "stdout",
     "output_type": "stream",
     "text": [
      "Epoch: 5000\n",
      "Alpha: 0.007500, Epsilon: 0.209982.\n",
      "Last 10 max delta mean: 0.000255.\n"
     ]
    },
    {
     "name": "stderr",
     "output_type": "stream",
     "text": [
      " 30%|███       | 6069/20000 [00:17<00:39, 350.85it/s]"
     ]
    },
    {
     "name": "stdout",
     "output_type": "stream",
     "text": [
      "Epoch: 6000\n",
      "Alpha: 0.007000, Epsilon: 0.191982.\n",
      "Last 10 max delta mean: 0.000219.\n"
     ]
    },
    {
     "name": "stderr",
     "output_type": "stream",
     "text": [
      " 35%|███▌      | 7040/20000 [00:20<00:36, 351.82it/s]"
     ]
    },
    {
     "name": "stdout",
     "output_type": "stream",
     "text": [
      "Epoch: 7000\n",
      "Alpha: 0.006500, Epsilon: 0.173982.\n",
      "Last 10 max delta mean: 0.000289.\n"
     ]
    },
    {
     "name": "stderr",
     "output_type": "stream",
     "text": [
      " 40%|████      | 8054/20000 [00:23<00:37, 319.53it/s]"
     ]
    },
    {
     "name": "stdout",
     "output_type": "stream",
     "text": [
      "Epoch: 8000\n",
      "Alpha: 0.006000, Epsilon: 0.155982.\n",
      "Last 10 max delta mean: 0.000227.\n"
     ]
    },
    {
     "name": "stderr",
     "output_type": "stream",
     "text": [
      " 45%|████▌     | 9063/20000 [00:26<00:31, 349.06it/s]"
     ]
    },
    {
     "name": "stdout",
     "output_type": "stream",
     "text": [
      "Epoch: 9000\n",
      "Alpha: 0.005500, Epsilon: 0.137982.\n",
      "Last 10 max delta mean: 0.000295.\n"
     ]
    },
    {
     "name": "stderr",
     "output_type": "stream",
     "text": [
      " 50%|█████     | 10050/20000 [00:29<00:28, 345.44it/s]"
     ]
    },
    {
     "name": "stdout",
     "output_type": "stream",
     "text": [
      "Epoch: 10000\n",
      "Alpha: 0.005000, Epsilon: 0.119982.\n",
      "Last 10 max delta mean: 0.000248.\n"
     ]
    },
    {
     "name": "stderr",
     "output_type": "stream",
     "text": [
      " 55%|█████▌    | 11050/20000 [00:32<00:25, 345.20it/s]"
     ]
    },
    {
     "name": "stdout",
     "output_type": "stream",
     "text": [
      "Epoch: 11000\n",
      "Alpha: 0.004500, Epsilon: 0.101982.\n",
      "Last 10 max delta mean: 0.000223.\n"
     ]
    },
    {
     "name": "stderr",
     "output_type": "stream",
     "text": [
      " 60%|██████    | 12073/20000 [00:35<00:22, 351.32it/s]"
     ]
    },
    {
     "name": "stdout",
     "output_type": "stream",
     "text": [
      "Epoch: 12000\n",
      "Alpha: 0.004000, Epsilon: 0.083982.\n",
      "Last 10 max delta mean: 0.000203.\n"
     ]
    },
    {
     "name": "stderr",
     "output_type": "stream",
     "text": [
      " 65%|██████▌   | 13038/20000 [00:37<00:20, 342.05it/s]"
     ]
    },
    {
     "name": "stdout",
     "output_type": "stream",
     "text": [
      "Epoch: 13000\n",
      "Alpha: 0.003500, Epsilon: 0.065982.\n",
      "Last 10 max delta mean: 0.000222.\n"
     ]
    },
    {
     "name": "stderr",
     "output_type": "stream",
     "text": [
      " 70%|███████   | 14054/20000 [00:40<00:19, 310.48it/s]"
     ]
    },
    {
     "name": "stdout",
     "output_type": "stream",
     "text": [
      "Epoch: 14000\n",
      "Alpha: 0.003000, Epsilon: 0.047982.\n",
      "Last 10 max delta mean: 0.000230.\n"
     ]
    },
    {
     "name": "stderr",
     "output_type": "stream",
     "text": [
      " 75%|███████▌  | 15042/20000 [00:43<00:14, 353.18it/s]"
     ]
    },
    {
     "name": "stdout",
     "output_type": "stream",
     "text": [
      "Epoch: 15000\n",
      "Alpha: 0.002500, Epsilon: 0.029982.\n",
      "Last 10 max delta mean: 0.000227.\n"
     ]
    },
    {
     "name": "stderr",
     "output_type": "stream",
     "text": [
      " 80%|████████  | 16041/20000 [00:46<00:11, 350.78it/s]"
     ]
    },
    {
     "name": "stdout",
     "output_type": "stream",
     "text": [
      "Epoch: 16000\n",
      "Alpha: 0.002000, Epsilon: 0.011982.\n",
      "Last 10 max delta mean: 0.000217.\n"
     ]
    },
    {
     "name": "stderr",
     "output_type": "stream",
     "text": [
      " 85%|████████▌ | 17062/20000 [00:49<00:08, 339.66it/s]"
     ]
    },
    {
     "name": "stdout",
     "output_type": "stream",
     "text": [
      "Epoch: 17000\n",
      "Alpha: 0.001500, Epsilon: 0.000000.\n",
      "Last 10 max delta mean: 0.000174.\n"
     ]
    },
    {
     "name": "stderr",
     "output_type": "stream",
     "text": [
      " 90%|█████████ | 18045/20000 [00:52<00:05, 348.82it/s]"
     ]
    },
    {
     "name": "stdout",
     "output_type": "stream",
     "text": [
      "Epoch: 18000\n",
      "Alpha: 0.001000, Epsilon: 0.000000.\n",
      "Last 10 max delta mean: 0.000194.\n"
     ]
    },
    {
     "name": "stderr",
     "output_type": "stream",
     "text": [
      " 95%|█████████▌| 19073/20000 [00:55<00:02, 352.82it/s]"
     ]
    },
    {
     "name": "stdout",
     "output_type": "stream",
     "text": [
      "Epoch: 19000\n",
      "Alpha: 0.000500, Epsilon: 0.000000.\n",
      "Last 10 max delta mean: 0.000229.\n"
     ]
    },
    {
     "name": "stderr",
     "output_type": "stream",
     "text": [
      "100%|██████████| 20000/20000 [00:58<00:00, 344.01it/s]\n"
     ]
    },
    {
     "data": {
      "text/html": [
       "<div>\n",
       "<style scoped>\n",
       "    .dataframe tbody tr th:only-of-type {\n",
       "        vertical-align: middle;\n",
       "    }\n",
       "\n",
       "    .dataframe tbody tr th {\n",
       "        vertical-align: top;\n",
       "    }\n",
       "\n",
       "    .dataframe thead th {\n",
       "        text-align: right;\n",
       "    }\n",
       "</style>\n",
       "<table border=\"1\" class=\"dataframe\">\n",
       "  <thead>\n",
       "    <tr style=\"text-align: right;\">\n",
       "      <th></th>\n",
       "      <th>0.00</th>\n",
       "      <th>0.20</th>\n",
       "      <th>0.40</th>\n",
       "      <th>0.60</th>\n",
       "      <th>0.80</th>\n",
       "      <th>1.00</th>\n",
       "    </tr>\n",
       "  </thead>\n",
       "  <tbody>\n",
       "    <tr>\n",
       "      <th>0</th>\n",
       "      <td>-0.682006</td>\n",
       "      <td>-0.685543</td>\n",
       "      <td>-0.688727</td>\n",
       "      <td>-0.690608</td>\n",
       "      <td>-0.693962</td>\n",
       "      <td>-0.697076</td>\n",
       "    </tr>\n",
       "    <tr>\n",
       "      <th>1</th>\n",
       "      <td>-0.656924</td>\n",
       "      <td>-0.660267</td>\n",
       "      <td>-0.664424</td>\n",
       "      <td>-0.666809</td>\n",
       "      <td>-0.670871</td>\n",
       "      <td>-0.672643</td>\n",
       "    </tr>\n",
       "    <tr>\n",
       "      <th>2</th>\n",
       "      <td>-0.632014</td>\n",
       "      <td>-0.634821</td>\n",
       "      <td>-0.639719</td>\n",
       "      <td>-0.640920</td>\n",
       "      <td>-0.645231</td>\n",
       "      <td>-0.649841</td>\n",
       "    </tr>\n",
       "    <tr>\n",
       "      <th>3</th>\n",
       "      <td>-0.605579</td>\n",
       "      <td>-0.610874</td>\n",
       "      <td>-0.612040</td>\n",
       "      <td>-0.615374</td>\n",
       "      <td>-0.619357</td>\n",
       "      <td>-0.620827</td>\n",
       "    </tr>\n",
       "    <tr>\n",
       "      <th>4</th>\n",
       "      <td>-0.578458</td>\n",
       "      <td>-0.583528</td>\n",
       "      <td>-0.583977</td>\n",
       "      <td>-0.587855</td>\n",
       "      <td>-0.591624</td>\n",
       "      <td>-0.591503</td>\n",
       "    </tr>\n",
       "    <tr>\n",
       "      <th>5</th>\n",
       "      <td>-0.546740</td>\n",
       "      <td>-0.554242</td>\n",
       "      <td>-0.556918</td>\n",
       "      <td>-0.558827</td>\n",
       "      <td>-0.559891</td>\n",
       "      <td>-0.562162</td>\n",
       "    </tr>\n",
       "    <tr>\n",
       "      <th>6</th>\n",
       "      <td>-0.509344</td>\n",
       "      <td>-0.516824</td>\n",
       "      <td>-0.516827</td>\n",
       "      <td>-0.520228</td>\n",
       "      <td>-0.525905</td>\n",
       "      <td>-0.527796</td>\n",
       "    </tr>\n",
       "    <tr>\n",
       "      <th>7</th>\n",
       "      <td>-0.457559</td>\n",
       "      <td>-0.465498</td>\n",
       "      <td>-0.466033</td>\n",
       "      <td>-0.471464</td>\n",
       "      <td>-0.472566</td>\n",
       "      <td>-0.475901</td>\n",
       "    </tr>\n",
       "    <tr>\n",
       "      <th>8</th>\n",
       "      <td>-0.378701</td>\n",
       "      <td>-0.386397</td>\n",
       "      <td>-0.387881</td>\n",
       "      <td>-0.389120</td>\n",
       "      <td>-0.392337</td>\n",
       "      <td>-0.396310</td>\n",
       "    </tr>\n",
       "    <tr>\n",
       "      <th>9</th>\n",
       "      <td>-0.244378</td>\n",
       "      <td>-0.250981</td>\n",
       "      <td>-0.251788</td>\n",
       "      <td>-0.257291</td>\n",
       "      <td>-0.256563</td>\n",
       "      <td>-0.258630</td>\n",
       "    </tr>\n",
       "    <tr>\n",
       "      <th>10</th>\n",
       "      <td>0.000000</td>\n",
       "      <td>0.000000</td>\n",
       "      <td>0.000000</td>\n",
       "      <td>0.000000</td>\n",
       "      <td>0.000000</td>\n",
       "      <td>0.000000</td>\n",
       "    </tr>\n",
       "  </tbody>\n",
       "</table>\n",
       "</div>"
      ],
      "text/plain": [
       "        0.00      0.20      0.40      0.60      0.80      1.00\n",
       "0  -0.682006 -0.685543 -0.688727 -0.690608 -0.693962 -0.697076\n",
       "1  -0.656924 -0.660267 -0.664424 -0.666809 -0.670871 -0.672643\n",
       "2  -0.632014 -0.634821 -0.639719 -0.640920 -0.645231 -0.649841\n",
       "3  -0.605579 -0.610874 -0.612040 -0.615374 -0.619357 -0.620827\n",
       "4  -0.578458 -0.583528 -0.583977 -0.587855 -0.591624 -0.591503\n",
       "5  -0.546740 -0.554242 -0.556918 -0.558827 -0.559891 -0.562162\n",
       "6  -0.509344 -0.516824 -0.516827 -0.520228 -0.525905 -0.527796\n",
       "7  -0.457559 -0.465498 -0.466033 -0.471464 -0.472566 -0.475901\n",
       "8  -0.378701 -0.386397 -0.387881 -0.389120 -0.392337 -0.396310\n",
       "9  -0.244378 -0.250981 -0.251788 -0.257291 -0.256563 -0.258630\n",
       "10  0.000000  0.000000  0.000000  0.000000  0.000000  0.000000"
      ]
     },
     "metadata": {},
     "output_type": "display_data"
    },
    {
     "name": "stdout",
     "output_type": "stream",
     "text": [
      "Optimal policy:\n",
      "0     0.00\n",
      "1     0.00\n",
      "2     0.00\n",
      "3     0.00\n",
      "4     0.00\n",
      "5     0.00\n",
      "6     0.00\n",
      "7     0.00\n",
      "8     0.00\n",
      "9     0.00\n",
      "10    0.00\n",
      "dtype: object\n"
     ]
    }
   ],
   "source": [
    "from mdp_agent.policy import Policy\n",
    "from mdp_agent.action_space import ActionSpace\n",
    "from mdp_env.risky_asset import RiskyAsset\n",
    "from mdp_env.risk_free_asset import RiskFreeAsset\n",
    "from mdp_env.train import train\n",
    "from mdp_env.reward import reward_eval\n",
    "import numpy as np\n",
    "from decimal import Decimal\n",
    "\n",
    "\n",
    "# Parameters Configuration\n",
    "EPOCHS = 20000\n",
    "# Total time periods\n",
    "T = 10\n",
    "# init for epsilon-greedy\n",
    "INIT_EPSILON = 0.3\n",
    "# init for learning rate\n",
    "INIT_ALPHA = 0.01\n",
    "# state space: this is dependent on time, per section 8.4 of Rao and Jelvis.\n",
    "states = np.arange(0, T + 1, 1)\n",
    "# action space\n",
    "actions = ActionSpace(\n",
    "    Decimal(\"0\"),\n",
    "    Decimal(\"1.0\"),\n",
    "    Decimal(\"0.2\"))\n",
    "# policy\n",
    "policy = Policy(\n",
    "    epochs=EPOCHS,\n",
    "    init_epsilon=INIT_EPSILON,\n",
    "    init_alpha=INIT_ALPHA,\n",
    "    state_space=states,\n",
    "    action_space=actions,\n",
    "    training=True\n",
    ")\n",
    "# assets\n",
    "risky_asset = RiskyAsset(0.04, -0.04, 0.5)\n",
    "risk_free_asset = RiskFreeAsset(0.04)\n",
    "# CARA Coefficient\n",
    "CARA_COEF = 1\n",
    "\n",
    "\n",
    "train(\n",
    "    epochs=EPOCHS,\n",
    "    T=T,\n",
    "    risky_asset=risky_asset,\n",
    "    risk_free_asset=risk_free_asset,\n",
    "    policy=policy,\n",
    "    reward_eval=reward_eval,\n",
    "    cara_coef=CARA_COEF,\n",
    "    early_stopping=1e-4\n",
    ")\n",
    "\n",
    "display(policy.q_table)\n",
    "\n",
    "print(\"Optimal policy:\")\n",
    "policy.print()\n"
   ]
  },
  {
   "cell_type": "markdown",
   "metadata": {},
   "source": [
    "# Case 4: Risky Asset usually gives same return as Risk-Free, but sometimes incur huge loss\n",
    "Condition: (a == r) & (r >> b) & (p > (1-p))"
   ]
  },
  {
   "cell_type": "code",
   "execution_count": 3,
   "metadata": {},
   "outputs": [
    {
     "name": "stderr",
     "output_type": "stream",
     "text": [
      "  0%|          | 102/30000 [00:00<01:29, 335.09it/s]"
     ]
    },
    {
     "name": "stdout",
     "output_type": "stream",
     "text": [
      "Epoch: 0\n",
      "Alpha: 0.005000, Epsilon: 0.299988.\n"
     ]
    },
    {
     "name": "stderr",
     "output_type": "stream",
     "text": [
      " 10%|█         | 3066/30000 [00:09<01:19, 337.49it/s]"
     ]
    },
    {
     "name": "stdout",
     "output_type": "stream",
     "text": [
      "Epoch: 3000\n",
      "Alpha: 0.004500, Epsilon: 0.263988.\n",
      "Last 10 max delta mean: 0.002013.\n"
     ]
    },
    {
     "name": "stderr",
     "output_type": "stream",
     "text": [
      " 20%|██        | 6044/30000 [00:18<01:23, 285.21it/s]"
     ]
    },
    {
     "name": "stdout",
     "output_type": "stream",
     "text": [
      "Epoch: 6000\n",
      "Alpha: 0.004000, Epsilon: 0.227988.\n",
      "Last 10 max delta mean: 0.001727.\n"
     ]
    },
    {
     "name": "stderr",
     "output_type": "stream",
     "text": [
      " 30%|███       | 9057/30000 [00:27<01:02, 336.69it/s]"
     ]
    },
    {
     "name": "stdout",
     "output_type": "stream",
     "text": [
      "Epoch: 9000\n",
      "Alpha: 0.003500, Epsilon: 0.191988.\n",
      "Last 10 max delta mean: 0.001327.\n"
     ]
    },
    {
     "name": "stderr",
     "output_type": "stream",
     "text": [
      " 40%|████      | 12072/30000 [00:36<00:51, 350.66it/s]"
     ]
    },
    {
     "name": "stdout",
     "output_type": "stream",
     "text": [
      "Epoch: 12000\n",
      "Alpha: 0.003000, Epsilon: 0.155988.\n",
      "Last 10 max delta mean: 0.000864.\n"
     ]
    },
    {
     "name": "stderr",
     "output_type": "stream",
     "text": [
      " 50%|█████     | 15040/30000 [00:44<00:42, 351.02it/s]"
     ]
    },
    {
     "name": "stdout",
     "output_type": "stream",
     "text": [
      "Epoch: 15000\n",
      "Alpha: 0.002500, Epsilon: 0.119988.\n",
      "Last 10 max delta mean: 0.000785.\n"
     ]
    },
    {
     "name": "stderr",
     "output_type": "stream",
     "text": [
      " 60%|██████    | 18064/30000 [00:54<00:34, 345.63it/s]"
     ]
    },
    {
     "name": "stdout",
     "output_type": "stream",
     "text": [
      "Epoch: 18000\n",
      "Alpha: 0.002000, Epsilon: 0.083988.\n",
      "Last 10 max delta mean: 0.000468.\n"
     ]
    },
    {
     "name": "stderr",
     "output_type": "stream",
     "text": [
      " 70%|███████   | 21055/30000 [01:03<00:26, 340.61it/s]"
     ]
    },
    {
     "name": "stdout",
     "output_type": "stream",
     "text": [
      "Epoch: 21000\n",
      "Alpha: 0.001500, Epsilon: 0.047988.\n",
      "Last 10 max delta mean: 0.000374.\n"
     ]
    },
    {
     "name": "stderr",
     "output_type": "stream",
     "text": [
      " 80%|████████  | 24062/30000 [01:11<00:16, 352.85it/s]"
     ]
    },
    {
     "name": "stdout",
     "output_type": "stream",
     "text": [
      "Epoch: 24000\n",
      "Alpha: 0.001000, Epsilon: 0.011988.\n",
      "Last 10 max delta mean: 0.000368.\n"
     ]
    },
    {
     "name": "stderr",
     "output_type": "stream",
     "text": [
      " 90%|█████████ | 27062/30000 [01:20<00:08, 348.35it/s]"
     ]
    },
    {
     "name": "stdout",
     "output_type": "stream",
     "text": [
      "Epoch: 27000\n",
      "Alpha: 0.000500, Epsilon: 0.000000.\n",
      "Last 10 max delta mean: 0.000354.\n"
     ]
    },
    {
     "name": "stderr",
     "output_type": "stream",
     "text": [
      "100%|██████████| 30000/30000 [01:28<00:00, 337.98it/s]\n"
     ]
    },
    {
     "data": {
      "text/html": [
       "<div>\n",
       "<style scoped>\n",
       "    .dataframe tbody tr th:only-of-type {\n",
       "        vertical-align: middle;\n",
       "    }\n",
       "\n",
       "    .dataframe tbody tr th {\n",
       "        vertical-align: top;\n",
       "    }\n",
       "\n",
       "    .dataframe thead th {\n",
       "        text-align: right;\n",
       "    }\n",
       "</style>\n",
       "<table border=\"1\" class=\"dataframe\">\n",
       "  <thead>\n",
       "    <tr style=\"text-align: right;\">\n",
       "      <th></th>\n",
       "      <th>0.00</th>\n",
       "      <th>0.20</th>\n",
       "      <th>0.40</th>\n",
       "      <th>0.60</th>\n",
       "      <th>0.80</th>\n",
       "      <th>1.00</th>\n",
       "    </tr>\n",
       "  </thead>\n",
       "  <tbody>\n",
       "    <tr>\n",
       "      <th>0</th>\n",
       "      <td>-3.088462</td>\n",
       "      <td>-3.090119</td>\n",
       "      <td>-3.095050</td>\n",
       "      <td>-3.100485</td>\n",
       "      <td>-3.108175</td>\n",
       "      <td>-3.108400</td>\n",
       "    </tr>\n",
       "    <tr>\n",
       "      <th>1</th>\n",
       "      <td>-2.736157</td>\n",
       "      <td>-2.736957</td>\n",
       "      <td>-2.743392</td>\n",
       "      <td>-2.747204</td>\n",
       "      <td>-2.750538</td>\n",
       "      <td>-2.759635</td>\n",
       "    </tr>\n",
       "    <tr>\n",
       "      <th>2</th>\n",
       "      <td>-2.392726</td>\n",
       "      <td>-2.394028</td>\n",
       "      <td>-2.400717</td>\n",
       "      <td>-2.408235</td>\n",
       "      <td>-2.412088</td>\n",
       "      <td>-2.417892</td>\n",
       "    </tr>\n",
       "    <tr>\n",
       "      <th>3</th>\n",
       "      <td>-2.061085</td>\n",
       "      <td>-2.064172</td>\n",
       "      <td>-2.071289</td>\n",
       "      <td>-2.078984</td>\n",
       "      <td>-2.078165</td>\n",
       "      <td>-2.080773</td>\n",
       "    </tr>\n",
       "    <tr>\n",
       "      <th>4</th>\n",
       "      <td>-1.738917</td>\n",
       "      <td>-1.742883</td>\n",
       "      <td>-1.747897</td>\n",
       "      <td>-1.750939</td>\n",
       "      <td>-1.759249</td>\n",
       "      <td>-1.761635</td>\n",
       "    </tr>\n",
       "    <tr>\n",
       "      <th>5</th>\n",
       "      <td>-1.425593</td>\n",
       "      <td>-1.431798</td>\n",
       "      <td>-1.432294</td>\n",
       "      <td>-1.434722</td>\n",
       "      <td>-1.443203</td>\n",
       "      <td>-1.455802</td>\n",
       "    </tr>\n",
       "    <tr>\n",
       "      <th>6</th>\n",
       "      <td>-1.120760</td>\n",
       "      <td>-1.129756</td>\n",
       "      <td>-1.134605</td>\n",
       "      <td>-1.132642</td>\n",
       "      <td>-1.145437</td>\n",
       "      <td>-1.141226</td>\n",
       "    </tr>\n",
       "    <tr>\n",
       "      <th>7</th>\n",
       "      <td>-0.824442</td>\n",
       "      <td>-0.833727</td>\n",
       "      <td>-0.837687</td>\n",
       "      <td>-0.842563</td>\n",
       "      <td>-0.844324</td>\n",
       "      <td>-0.850231</td>\n",
       "    </tr>\n",
       "    <tr>\n",
       "      <th>8</th>\n",
       "      <td>-0.536457</td>\n",
       "      <td>-0.549971</td>\n",
       "      <td>-0.550791</td>\n",
       "      <td>-0.554463</td>\n",
       "      <td>-0.558611</td>\n",
       "      <td>-0.570662</td>\n",
       "    </tr>\n",
       "    <tr>\n",
       "      <th>9</th>\n",
       "      <td>-0.262308</td>\n",
       "      <td>-0.273295</td>\n",
       "      <td>-0.277487</td>\n",
       "      <td>-0.282219</td>\n",
       "      <td>-0.290944</td>\n",
       "      <td>-0.294000</td>\n",
       "    </tr>\n",
       "    <tr>\n",
       "      <th>10</th>\n",
       "      <td>0.000000</td>\n",
       "      <td>0.000000</td>\n",
       "      <td>0.000000</td>\n",
       "      <td>0.000000</td>\n",
       "      <td>0.000000</td>\n",
       "      <td>0.000000</td>\n",
       "    </tr>\n",
       "  </tbody>\n",
       "</table>\n",
       "</div>"
      ],
      "text/plain": [
       "        0.00      0.20      0.40      0.60      0.80      1.00\n",
       "0  -3.088462 -3.090119 -3.095050 -3.100485 -3.108175 -3.108400\n",
       "1  -2.736157 -2.736957 -2.743392 -2.747204 -2.750538 -2.759635\n",
       "2  -2.392726 -2.394028 -2.400717 -2.408235 -2.412088 -2.417892\n",
       "3  -2.061085 -2.064172 -2.071289 -2.078984 -2.078165 -2.080773\n",
       "4  -1.738917 -1.742883 -1.747897 -1.750939 -1.759249 -1.761635\n",
       "5  -1.425593 -1.431798 -1.432294 -1.434722 -1.443203 -1.455802\n",
       "6  -1.120760 -1.129756 -1.134605 -1.132642 -1.145437 -1.141226\n",
       "7  -0.824442 -0.833727 -0.837687 -0.842563 -0.844324 -0.850231\n",
       "8  -0.536457 -0.549971 -0.550791 -0.554463 -0.558611 -0.570662\n",
       "9  -0.262308 -0.273295 -0.277487 -0.282219 -0.290944 -0.294000\n",
       "10  0.000000  0.000000  0.000000  0.000000  0.000000  0.000000"
      ]
     },
     "metadata": {},
     "output_type": "display_data"
    },
    {
     "name": "stdout",
     "output_type": "stream",
     "text": [
      "Optimal policy:\n",
      "0     0.00\n",
      "1     0.00\n",
      "2     0.00\n",
      "3     0.00\n",
      "4     0.00\n",
      "5     0.00\n",
      "6     0.00\n",
      "7     0.00\n",
      "8     0.00\n",
      "9     0.00\n",
      "10    0.00\n",
      "dtype: object\n"
     ]
    }
   ],
   "source": [
    "from mdp_agent.policy import Policy\n",
    "from mdp_agent.action_space import ActionSpace\n",
    "from mdp_env.risky_asset import RiskyAsset\n",
    "from mdp_env.risk_free_asset import RiskFreeAsset\n",
    "from mdp_env.train import train\n",
    "from mdp_env.reward import reward_eval\n",
    "import numpy as np\n",
    "from decimal import Decimal\n",
    "\n",
    "\n",
    "# Parameters Configuration\n",
    "EPOCHS = 30000\n",
    "# Total time periods\n",
    "T = 10\n",
    "# init for epsilon-greedy\n",
    "INIT_EPSILON = 0.3\n",
    "# init for learning rate\n",
    "INIT_ALPHA = 0.005\n",
    "# state space: this is dependent on time, per section 8.4 of Rao and Jelvis.\n",
    "states = np.arange(0, T + 1, 1)\n",
    "# action space\n",
    "actions = ActionSpace(\n",
    "    Decimal(\"0\"),\n",
    "    Decimal(\"1.0\"),\n",
    "    Decimal(\"0.2\"))\n",
    "# policy\n",
    "policy = Policy(\n",
    "    epochs=EPOCHS,\n",
    "    init_epsilon=INIT_EPSILON,\n",
    "    init_alpha=INIT_ALPHA,\n",
    "    state_space=states,\n",
    "    action_space=actions,\n",
    "    training=True,\n",
    "    gamma=1.0\n",
    ")\n",
    "# assets\n",
    "risky_asset = RiskyAsset(0.04, -0.3, 0.80)\n",
    "risk_free_asset = RiskFreeAsset(0.04)\n",
    "# CARA Coefficient\n",
    "CARA_COEF = 1\n",
    "\n",
    "\n",
    "train(\n",
    "    epochs=EPOCHS,\n",
    "    T=T,\n",
    "    risky_asset=risky_asset,\n",
    "    risk_free_asset=risk_free_asset,\n",
    "    policy=policy,\n",
    "    reward_eval=reward_eval,\n",
    "    cara_coef=CARA_COEF,\n",
    "    early_stopping=1e-4\n",
    ")\n",
    "\n",
    "display(policy.q_table)\n",
    "\n",
    "print(\"Optimal policy:\")\n",
    "policy.print()\n"
   ]
  }
 ],
 "metadata": {
  "kernelspec": {
   "display_name": "6000m_a1",
   "language": "python",
   "name": "python3"
  },
  "language_info": {
   "codemirror_mode": {
    "name": "ipython",
    "version": 3
   },
   "file_extension": ".py",
   "mimetype": "text/x-python",
   "name": "python",
   "nbconvert_exporter": "python",
   "pygments_lexer": "ipython3",
   "version": "3.12.7"
  }
 },
 "nbformat": 4,
 "nbformat_minor": 2
}
