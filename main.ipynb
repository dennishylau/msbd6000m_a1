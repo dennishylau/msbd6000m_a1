{
 "cells": [
  {
   "cell_type": "markdown",
   "metadata": {},
   "source": [
    "# Case 1: Risky Asset always better\n",
    "Condition: a > r & b > r"
   ]
  },
  {
   "cell_type": "code",
   "execution_count": 4,
   "metadata": {},
   "outputs": [
    {
     "name": "stderr",
     "output_type": "stream",
     "text": [
      "  0%|          | 82/20000 [00:00<01:08, 292.10it/s]"
     ]
    },
    {
     "name": "stdout",
     "output_type": "stream",
     "text": [
      "Epoch: 0\n",
      "Alpha: 0.010000, Epsilon: 0.299982.\n"
     ]
    },
    {
     "name": "stderr",
     "output_type": "stream",
     "text": [
      " 10%|█         | 2049/20000 [00:06<00:52, 344.46it/s]"
     ]
    },
    {
     "name": "stdout",
     "output_type": "stream",
     "text": [
      "Epoch: 2000\n",
      "Alpha: 0.009000, Epsilon: 0.263982.\n",
      "Last 10 max delta mean: 0.001567.\n"
     ]
    },
    {
     "name": "stderr",
     "output_type": "stream",
     "text": [
      " 20%|██        | 4053/20000 [00:12<00:44, 358.76it/s]"
     ]
    },
    {
     "name": "stdout",
     "output_type": "stream",
     "text": [
      "Epoch: 4000\n",
      "Alpha: 0.008000, Epsilon: 0.227982.\n",
      "Last 10 max delta mean: 0.000540.\n"
     ]
    },
    {
     "name": "stderr",
     "output_type": "stream",
     "text": [
      " 30%|███       | 6069/20000 [00:17<00:39, 352.71it/s]"
     ]
    },
    {
     "name": "stdout",
     "output_type": "stream",
     "text": [
      "Epoch: 6000\n",
      "Alpha: 0.007000, Epsilon: 0.191982.\n",
      "Last 10 max delta mean: 0.000451.\n"
     ]
    },
    {
     "name": "stderr",
     "output_type": "stream",
     "text": [
      " 39%|███▉      | 7758/20000 [00:22<00:36, 338.71it/s]"
     ]
    },
    {
     "name": "stdout",
     "output_type": "stream",
     "text": [
      "Converged. Total Epochs: 7758.\n",
      "Last 10 max delta mean: 0.000196.\n"
     ]
    },
    {
     "name": "stderr",
     "output_type": "stream",
     "text": [
      "\n"
     ]
    },
    {
     "data": {
      "text/html": [
       "<div>\n",
       "<style scoped>\n",
       "    .dataframe tbody tr th:only-of-type {\n",
       "        vertical-align: middle;\n",
       "    }\n",
       "\n",
       "    .dataframe tbody tr th {\n",
       "        vertical-align: top;\n",
       "    }\n",
       "\n",
       "    .dataframe thead th {\n",
       "        text-align: right;\n",
       "    }\n",
       "</style>\n",
       "<table border=\"1\" class=\"dataframe\">\n",
       "  <thead>\n",
       "    <tr style=\"text-align: right;\">\n",
       "      <th></th>\n",
       "      <th>0.00</th>\n",
       "      <th>0.25</th>\n",
       "      <th>0.50</th>\n",
       "      <th>0.75</th>\n",
       "      <th>1.00</th>\n",
       "    </tr>\n",
       "  </thead>\n",
       "  <tbody>\n",
       "    <tr>\n",
       "      <th>0</th>\n",
       "      <td>-1.346980</td>\n",
       "      <td>-1.340056</td>\n",
       "      <td>-1.334005</td>\n",
       "      <td>-1.327652</td>\n",
       "      <td>-1.311897</td>\n",
       "    </tr>\n",
       "    <tr>\n",
       "      <th>1</th>\n",
       "      <td>-1.131985</td>\n",
       "      <td>-1.127873</td>\n",
       "      <td>-1.125567</td>\n",
       "      <td>-1.117617</td>\n",
       "      <td>-1.095780</td>\n",
       "    </tr>\n",
       "    <tr>\n",
       "      <th>2</th>\n",
       "      <td>-0.939090</td>\n",
       "      <td>-0.933971</td>\n",
       "      <td>-0.927258</td>\n",
       "      <td>-0.918816</td>\n",
       "      <td>-0.898300</td>\n",
       "    </tr>\n",
       "    <tr>\n",
       "      <th>3</th>\n",
       "      <td>-0.758378</td>\n",
       "      <td>-0.753505</td>\n",
       "      <td>-0.744548</td>\n",
       "      <td>-0.742859</td>\n",
       "      <td>-0.721444</td>\n",
       "    </tr>\n",
       "    <tr>\n",
       "      <th>4</th>\n",
       "      <td>-0.597816</td>\n",
       "      <td>-0.595190</td>\n",
       "      <td>-0.585731</td>\n",
       "      <td>-0.584677</td>\n",
       "      <td>-0.562957</td>\n",
       "    </tr>\n",
       "    <tr>\n",
       "      <th>5</th>\n",
       "      <td>-0.458126</td>\n",
       "      <td>-0.456017</td>\n",
       "      <td>-0.448151</td>\n",
       "      <td>-0.438482</td>\n",
       "      <td>-0.426213</td>\n",
       "    </tr>\n",
       "    <tr>\n",
       "      <th>6</th>\n",
       "      <td>-0.337991</td>\n",
       "      <td>-0.333224</td>\n",
       "      <td>-0.326777</td>\n",
       "      <td>-0.324532</td>\n",
       "      <td>-0.308205</td>\n",
       "    </tr>\n",
       "    <tr>\n",
       "      <th>7</th>\n",
       "      <td>-0.231384</td>\n",
       "      <td>-0.228028</td>\n",
       "      <td>-0.220714</td>\n",
       "      <td>-0.219940</td>\n",
       "      <td>-0.207718</td>\n",
       "    </tr>\n",
       "    <tr>\n",
       "      <th>8</th>\n",
       "      <td>-0.145932</td>\n",
       "      <td>-0.141086</td>\n",
       "      <td>-0.134980</td>\n",
       "      <td>-0.132040</td>\n",
       "      <td>-0.124055</td>\n",
       "    </tr>\n",
       "    <tr>\n",
       "      <th>9</th>\n",
       "      <td>-0.073816</td>\n",
       "      <td>-0.069462</td>\n",
       "      <td>-0.064102</td>\n",
       "      <td>-0.059995</td>\n",
       "      <td>-0.055133</td>\n",
       "    </tr>\n",
       "    <tr>\n",
       "      <th>10</th>\n",
       "      <td>0.000000</td>\n",
       "      <td>0.000000</td>\n",
       "      <td>0.000000</td>\n",
       "      <td>0.000000</td>\n",
       "      <td>0.000000</td>\n",
       "    </tr>\n",
       "  </tbody>\n",
       "</table>\n",
       "</div>"
      ],
      "text/plain": [
       "        0.00      0.25      0.50      0.75      1.00\n",
       "0  -1.346980 -1.340056 -1.334005 -1.327652 -1.311897\n",
       "1  -1.131985 -1.127873 -1.125567 -1.117617 -1.095780\n",
       "2  -0.939090 -0.933971 -0.927258 -0.918816 -0.898300\n",
       "3  -0.758378 -0.753505 -0.744548 -0.742859 -0.721444\n",
       "4  -0.597816 -0.595190 -0.585731 -0.584677 -0.562957\n",
       "5  -0.458126 -0.456017 -0.448151 -0.438482 -0.426213\n",
       "6  -0.337991 -0.333224 -0.326777 -0.324532 -0.308205\n",
       "7  -0.231384 -0.228028 -0.220714 -0.219940 -0.207718\n",
       "8  -0.145932 -0.141086 -0.134980 -0.132040 -0.124055\n",
       "9  -0.073816 -0.069462 -0.064102 -0.059995 -0.055133\n",
       "10  0.000000  0.000000  0.000000  0.000000  0.000000"
      ]
     },
     "metadata": {},
     "output_type": "display_data"
    },
    {
     "name": "stdout",
     "output_type": "stream",
     "text": [
      "Optimal policy:\n",
      "0     1.00\n",
      "1     1.00\n",
      "2     1.00\n",
      "3     1.00\n",
      "4     1.00\n",
      "5     1.00\n",
      "6     1.00\n",
      "7     1.00\n",
      "8     1.00\n",
      "9     1.00\n",
      "10    0.00\n",
      "dtype: object\n"
     ]
    }
   ],
   "source": [
    "from mdp_agent.policy import Policy\n",
    "from mdp_agent.action_space import ActionSpace\n",
    "from mdp_env.risky_asset import RiskyAsset\n",
    "from mdp_env.risk_free_asset import RiskFreeAsset\n",
    "from mdp_env.train import train\n",
    "from mdp_env.reward import reward_eval\n",
    "import numpy as np\n",
    "from decimal import Decimal\n",
    "\n",
    "\n",
    "# Parameters Configuration\n",
    "EPOCHS = 20000\n",
    "# Total time periods\n",
    "T = 10\n",
    "# init for epsilon-greedy\n",
    "INIT_EPSILON = 0.3\n",
    "# init for learning rate\n",
    "INIT_ALPHA = 0.01\n",
    "# state space: this is dependent on time, per section 8.4 of Rao and Jelvis.\n",
    "states = np.arange(0, T + 1, 1)\n",
    "# action space\n",
    "actions = ActionSpace(\n",
    "    Decimal(\"0\"),\n",
    "    Decimal(\"1.0\"),\n",
    "    Decimal(\"0.25\"))\n",
    "# policy\n",
    "policy = Policy(\n",
    "    epochs=EPOCHS,\n",
    "    init_epsilon=INIT_EPSILON,\n",
    "    init_alpha=INIT_ALPHA,\n",
    "    state_space=states,\n",
    "    action_space=actions,\n",
    "    training=True\n",
    ")\n",
    "# assets\n",
    "risky_asset = RiskyAsset(0.15, 0.1, 0.5)\n",
    "risk_free_asset = RiskFreeAsset(0.04)\n",
    "# CARA Coefficient\n",
    "CARA_COEF = 1\n",
    "\n",
    "\n",
    "train(\n",
    "    epochs=EPOCHS,\n",
    "    T=T,\n",
    "    risky_asset=risky_asset,\n",
    "    risk_free_asset=risk_free_asset,\n",
    "    policy=policy,\n",
    "    reward_eval=reward_eval,\n",
    "    cara_coef=CARA_COEF,\n",
    "    early_stopping=2e-4\n",
    ")\n",
    "\n",
    "display(policy.q_table)\n",
    "\n",
    "print(\"Optimal policy:\")\n",
    "policy.print()\n"
   ]
  },
  {
   "cell_type": "markdown",
   "metadata": {},
   "source": [
    "# Case 2: Risk-Free Asset always better\n",
    "Condition: a < r & b < r"
   ]
  },
  {
   "cell_type": "code",
   "execution_count": 5,
   "metadata": {},
   "outputs": [
    {
     "name": "stderr",
     "output_type": "stream",
     "text": [
      "  0%|          | 53/20000 [00:00<01:18, 255.58it/s]"
     ]
    },
    {
     "name": "stdout",
     "output_type": "stream",
     "text": [
      "Epoch: 0\n",
      "Alpha: 0.010000, Epsilon: 0.299982.\n"
     ]
    },
    {
     "name": "stderr",
     "output_type": "stream",
     "text": [
      " 10%|█         | 2052/20000 [00:06<00:53, 335.26it/s]"
     ]
    },
    {
     "name": "stdout",
     "output_type": "stream",
     "text": [
      "Epoch: 2000\n",
      "Alpha: 0.009000, Epsilon: 0.263982.\n",
      "Last 10 max delta mean: 0.002694.\n"
     ]
    },
    {
     "name": "stderr",
     "output_type": "stream",
     "text": [
      " 20%|██        | 4057/20000 [00:11<00:49, 322.24it/s]"
     ]
    },
    {
     "name": "stdout",
     "output_type": "stream",
     "text": [
      "Epoch: 4000\n",
      "Alpha: 0.008000, Epsilon: 0.227982.\n",
      "Last 10 max delta mean: 0.001458.\n"
     ]
    },
    {
     "name": "stderr",
     "output_type": "stream",
     "text": [
      " 30%|███       | 6065/20000 [00:17<00:40, 347.82it/s]"
     ]
    },
    {
     "name": "stdout",
     "output_type": "stream",
     "text": [
      "Epoch: 6000\n",
      "Alpha: 0.007000, Epsilon: 0.191982.\n",
      "Last 10 max delta mean: 0.001237.\n"
     ]
    },
    {
     "name": "stderr",
     "output_type": "stream",
     "text": [
      " 40%|████      | 8061/20000 [00:23<00:34, 347.32it/s]"
     ]
    },
    {
     "name": "stdout",
     "output_type": "stream",
     "text": [
      "Epoch: 8000\n",
      "Alpha: 0.006000, Epsilon: 0.155982.\n",
      "Last 10 max delta mean: 0.000528.\n"
     ]
    },
    {
     "name": "stderr",
     "output_type": "stream",
     "text": [
      " 50%|█████     | 10067/20000 [00:29<00:29, 338.39it/s]"
     ]
    },
    {
     "name": "stdout",
     "output_type": "stream",
     "text": [
      "Epoch: 10000\n",
      "Alpha: 0.005000, Epsilon: 0.119982.\n",
      "Last 10 max delta mean: 0.000482.\n"
     ]
    },
    {
     "name": "stderr",
     "output_type": "stream",
     "text": [
      " 60%|██████    | 12059/20000 [00:34<00:23, 340.53it/s]"
     ]
    },
    {
     "name": "stdout",
     "output_type": "stream",
     "text": [
      "Epoch: 12000\n",
      "Alpha: 0.004000, Epsilon: 0.083982.\n",
      "Last 10 max delta mean: 0.000456.\n"
     ]
    },
    {
     "name": "stderr",
     "output_type": "stream",
     "text": [
      " 70%|███████   | 14056/20000 [00:40<00:16, 350.62it/s]"
     ]
    },
    {
     "name": "stdout",
     "output_type": "stream",
     "text": [
      "Epoch: 14000\n",
      "Alpha: 0.003000, Epsilon: 0.047982.\n",
      "Last 10 max delta mean: 0.000528.\n"
     ]
    },
    {
     "name": "stderr",
     "output_type": "stream",
     "text": [
      " 80%|████████  | 16043/20000 [00:46<00:11, 338.51it/s]"
     ]
    },
    {
     "name": "stdout",
     "output_type": "stream",
     "text": [
      "Epoch: 16000\n",
      "Alpha: 0.002000, Epsilon: 0.011982.\n",
      "Last 10 max delta mean: 0.000456.\n"
     ]
    },
    {
     "name": "stderr",
     "output_type": "stream",
     "text": [
      " 90%|█████████ | 18057/20000 [00:52<00:05, 355.28it/s]"
     ]
    },
    {
     "name": "stdout",
     "output_type": "stream",
     "text": [
      "Epoch: 18000\n",
      "Alpha: 0.001000, Epsilon: 0.000000.\n",
      "Last 10 max delta mean: 0.000449.\n"
     ]
    },
    {
     "name": "stderr",
     "output_type": "stream",
     "text": [
      "100%|██████████| 20000/20000 [00:57<00:00, 344.99it/s]\n"
     ]
    },
    {
     "data": {
      "text/html": [
       "<div>\n",
       "<style scoped>\n",
       "    .dataframe tbody tr th:only-of-type {\n",
       "        vertical-align: middle;\n",
       "    }\n",
       "\n",
       "    .dataframe tbody tr th {\n",
       "        vertical-align: top;\n",
       "    }\n",
       "\n",
       "    .dataframe thead th {\n",
       "        text-align: right;\n",
       "    }\n",
       "</style>\n",
       "<table border=\"1\" class=\"dataframe\">\n",
       "  <thead>\n",
       "    <tr style=\"text-align: right;\">\n",
       "      <th></th>\n",
       "      <th>0.00</th>\n",
       "      <th>0.25</th>\n",
       "      <th>0.50</th>\n",
       "      <th>0.75</th>\n",
       "      <th>1.00</th>\n",
       "    </tr>\n",
       "  </thead>\n",
       "  <tbody>\n",
       "    <tr>\n",
       "      <th>0</th>\n",
       "      <td>-2.104203</td>\n",
       "      <td>-2.115640</td>\n",
       "      <td>-2.126299</td>\n",
       "      <td>-2.135093</td>\n",
       "      <td>-2.148439</td>\n",
       "    </tr>\n",
       "    <tr>\n",
       "      <th>1</th>\n",
       "      <td>-1.947092</td>\n",
       "      <td>-1.956412</td>\n",
       "      <td>-1.966097</td>\n",
       "      <td>-1.977427</td>\n",
       "      <td>-1.986385</td>\n",
       "    </tr>\n",
       "    <tr>\n",
       "      <th>2</th>\n",
       "      <td>-1.780708</td>\n",
       "      <td>-1.792085</td>\n",
       "      <td>-1.800697</td>\n",
       "      <td>-1.809786</td>\n",
       "      <td>-1.822768</td>\n",
       "    </tr>\n",
       "    <tr>\n",
       "      <th>3</th>\n",
       "      <td>-1.605411</td>\n",
       "      <td>-1.617583</td>\n",
       "      <td>-1.622787</td>\n",
       "      <td>-1.635472</td>\n",
       "      <td>-1.648316</td>\n",
       "    </tr>\n",
       "    <tr>\n",
       "      <th>4</th>\n",
       "      <td>-1.417980</td>\n",
       "      <td>-1.427579</td>\n",
       "      <td>-1.440653</td>\n",
       "      <td>-1.448652</td>\n",
       "      <td>-1.460249</td>\n",
       "    </tr>\n",
       "    <tr>\n",
       "      <th>5</th>\n",
       "      <td>-1.220252</td>\n",
       "      <td>-1.225978</td>\n",
       "      <td>-1.238248</td>\n",
       "      <td>-1.251915</td>\n",
       "      <td>-1.255545</td>\n",
       "    </tr>\n",
       "    <tr>\n",
       "      <th>6</th>\n",
       "      <td>-1.009519</td>\n",
       "      <td>-1.017846</td>\n",
       "      <td>-1.026684</td>\n",
       "      <td>-1.037498</td>\n",
       "      <td>-1.043202</td>\n",
       "    </tr>\n",
       "    <tr>\n",
       "      <th>7</th>\n",
       "      <td>-0.780399</td>\n",
       "      <td>-0.787675</td>\n",
       "      <td>-0.802041</td>\n",
       "      <td>-0.813272</td>\n",
       "      <td>-0.821921</td>\n",
       "    </tr>\n",
       "    <tr>\n",
       "      <th>8</th>\n",
       "      <td>-0.538494</td>\n",
       "      <td>-0.549251</td>\n",
       "      <td>-0.555743</td>\n",
       "      <td>-0.571367</td>\n",
       "      <td>-0.580379</td>\n",
       "    </tr>\n",
       "    <tr>\n",
       "      <th>9</th>\n",
       "      <td>-0.279884</td>\n",
       "      <td>-0.293659</td>\n",
       "      <td>-0.301339</td>\n",
       "      <td>-0.310746</td>\n",
       "      <td>-0.321995</td>\n",
       "    </tr>\n",
       "    <tr>\n",
       "      <th>10</th>\n",
       "      <td>0.000000</td>\n",
       "      <td>0.000000</td>\n",
       "      <td>0.000000</td>\n",
       "      <td>0.000000</td>\n",
       "      <td>0.000000</td>\n",
       "    </tr>\n",
       "  </tbody>\n",
       "</table>\n",
       "</div>"
      ],
      "text/plain": [
       "        0.00      0.25      0.50      0.75      1.00\n",
       "0  -2.104203 -2.115640 -2.126299 -2.135093 -2.148439\n",
       "1  -1.947092 -1.956412 -1.966097 -1.977427 -1.986385\n",
       "2  -1.780708 -1.792085 -1.800697 -1.809786 -1.822768\n",
       "3  -1.605411 -1.617583 -1.622787 -1.635472 -1.648316\n",
       "4  -1.417980 -1.427579 -1.440653 -1.448652 -1.460249\n",
       "5  -1.220252 -1.225978 -1.238248 -1.251915 -1.255545\n",
       "6  -1.009519 -1.017846 -1.026684 -1.037498 -1.043202\n",
       "7  -0.780399 -0.787675 -0.802041 -0.813272 -0.821921\n",
       "8  -0.538494 -0.549251 -0.555743 -0.571367 -0.580379\n",
       "9  -0.279884 -0.293659 -0.301339 -0.310746 -0.321995\n",
       "10  0.000000  0.000000  0.000000  0.000000  0.000000"
      ]
     },
     "metadata": {},
     "output_type": "display_data"
    },
    {
     "name": "stdout",
     "output_type": "stream",
     "text": [
      "Optimal policy:\n",
      "0     0.00\n",
      "1     0.00\n",
      "2     0.00\n",
      "3     0.00\n",
      "4     0.00\n",
      "5     0.00\n",
      "6     0.00\n",
      "7     0.00\n",
      "8     0.00\n",
      "9     0.00\n",
      "10    0.00\n",
      "dtype: object\n"
     ]
    }
   ],
   "source": [
    "from mdp_agent.policy import Policy\n",
    "from mdp_agent.action_space import ActionSpace\n",
    "from mdp_env.risky_asset import RiskyAsset\n",
    "from mdp_env.risk_free_asset import RiskFreeAsset\n",
    "from mdp_env.train import train\n",
    "from mdp_env.reward import reward_eval\n",
    "import numpy as np\n",
    "from decimal import Decimal\n",
    "\n",
    "\n",
    "# Parameters Configuration\n",
    "EPOCHS = 20000\n",
    "# Total time periods\n",
    "T = 10\n",
    "# init for epsilon-greedy\n",
    "INIT_EPSILON = 0.3\n",
    "# init for learning rate\n",
    "INIT_ALPHA = 0.01\n",
    "# state space: this is dependent on time, per section 8.4 of Rao and Jelvis.\n",
    "states = np.arange(0, T + 1, 1)\n",
    "# action space\n",
    "actions = ActionSpace(\n",
    "    Decimal(\"0\"),\n",
    "    Decimal(\"1.0\"),\n",
    "    Decimal(\"0.25\"))\n",
    "# policy\n",
    "policy = Policy(\n",
    "    epochs=EPOCHS,\n",
    "    init_epsilon=INIT_EPSILON,\n",
    "    init_alpha=INIT_ALPHA,\n",
    "    state_space=states,\n",
    "    action_space=actions,\n",
    "    training=True\n",
    ")\n",
    "# assets\n",
    "risky_asset = RiskyAsset(-0.04, -0.10, 0.5)\n",
    "risk_free_asset = RiskFreeAsset(0.04)\n",
    "# CARA Coefficient\n",
    "CARA_COEF = 1\n",
    "\n",
    "\n",
    "train(\n",
    "    epochs=EPOCHS,\n",
    "    T=T,\n",
    "    risky_asset=risky_asset,\n",
    "    risk_free_asset=risk_free_asset,\n",
    "    policy=policy,\n",
    "    reward_eval=reward_eval,\n",
    "    cara_coef=CARA_COEF,\n",
    "    early_stopping=1e-4\n",
    ")\n",
    "\n",
    "display(policy.q_table)\n",
    "\n",
    "print(\"Optimal policy:\")\n",
    "policy.print()\n"
   ]
  },
  {
   "cell_type": "markdown",
   "metadata": {},
   "source": [
    "# Case 3: Risky Asset expected return same as Risk-Free Rate\n",
    "Condition: (a > r) & (b < r) & (a == -b) & (ap + b(1-p) == r)"
   ]
  },
  {
   "cell_type": "code",
   "execution_count": 6,
   "metadata": {},
   "outputs": [
    {
     "name": "stderr",
     "output_type": "stream",
     "text": [
      "  0%|          | 68/20000 [00:00<00:59, 334.63it/s]"
     ]
    },
    {
     "name": "stdout",
     "output_type": "stream",
     "text": [
      "Epoch: 0\n",
      "Alpha: 0.010000, Epsilon: 0.299982.\n"
     ]
    },
    {
     "name": "stderr",
     "output_type": "stream",
     "text": [
      " 10%|█         | 2071/20000 [00:06<00:56, 318.30it/s]"
     ]
    },
    {
     "name": "stdout",
     "output_type": "stream",
     "text": [
      "Epoch: 2000\n",
      "Alpha: 0.009000, Epsilon: 0.263982.\n",
      "Last 10 max delta mean: 0.002257.\n"
     ]
    },
    {
     "name": "stderr",
     "output_type": "stream",
     "text": [
      " 20%|██        | 4100/20000 [00:12<00:45, 347.73it/s]"
     ]
    },
    {
     "name": "stdout",
     "output_type": "stream",
     "text": [
      "Epoch: 4000\n",
      "Alpha: 0.008000, Epsilon: 0.227982.\n",
      "Last 10 max delta mean: 0.001114.\n"
     ]
    },
    {
     "name": "stderr",
     "output_type": "stream",
     "text": [
      " 31%|███       | 6106/20000 [00:18<00:38, 356.91it/s]"
     ]
    },
    {
     "name": "stdout",
     "output_type": "stream",
     "text": [
      "Epoch: 6000\n",
      "Alpha: 0.007000, Epsilon: 0.191982.\n",
      "Last 10 max delta mean: 0.000501.\n"
     ]
    },
    {
     "name": "stderr",
     "output_type": "stream",
     "text": [
      " 41%|████      | 8103/20000 [00:24<00:33, 355.25it/s]"
     ]
    },
    {
     "name": "stdout",
     "output_type": "stream",
     "text": [
      "Epoch: 8000\n",
      "Alpha: 0.006000, Epsilon: 0.155982.\n",
      "Last 10 max delta mean: 0.000348.\n"
     ]
    },
    {
     "name": "stderr",
     "output_type": "stream",
     "text": [
      " 51%|█████     | 10106/20000 [00:29<00:29, 334.28it/s]"
     ]
    },
    {
     "name": "stdout",
     "output_type": "stream",
     "text": [
      "Epoch: 10000\n",
      "Alpha: 0.005000, Epsilon: 0.119982.\n",
      "Last 10 max delta mean: 0.000239.\n"
     ]
    },
    {
     "name": "stderr",
     "output_type": "stream",
     "text": [
      " 61%|██████    | 12102/20000 [00:35<00:22, 350.20it/s]"
     ]
    },
    {
     "name": "stdout",
     "output_type": "stream",
     "text": [
      "Epoch: 12000\n",
      "Alpha: 0.004000, Epsilon: 0.083982.\n",
      "Last 10 max delta mean: 0.000205.\n"
     ]
    },
    {
     "name": "stderr",
     "output_type": "stream",
     "text": [
      " 70%|███████   | 14077/20000 [00:40<00:16, 357.41it/s]"
     ]
    },
    {
     "name": "stdout",
     "output_type": "stream",
     "text": [
      "Epoch: 14000\n",
      "Alpha: 0.003000, Epsilon: 0.047982.\n",
      "Last 10 max delta mean: 0.000217.\n"
     ]
    },
    {
     "name": "stderr",
     "output_type": "stream",
     "text": [
      " 80%|████████  | 16049/20000 [00:46<00:11, 353.80it/s]"
     ]
    },
    {
     "name": "stdout",
     "output_type": "stream",
     "text": [
      "Epoch: 16000\n",
      "Alpha: 0.002000, Epsilon: 0.011982.\n",
      "Last 10 max delta mean: 0.000225.\n"
     ]
    },
    {
     "name": "stderr",
     "output_type": "stream",
     "text": [
      " 90%|█████████ | 18050/20000 [00:52<00:05, 353.78it/s]"
     ]
    },
    {
     "name": "stdout",
     "output_type": "stream",
     "text": [
      "Epoch: 18000\n",
      "Alpha: 0.001000, Epsilon: 0.000000.\n",
      "Last 10 max delta mean: 0.000180.\n"
     ]
    },
    {
     "name": "stderr",
     "output_type": "stream",
     "text": [
      "100%|██████████| 20000/20000 [00:57<00:00, 345.97it/s]\n"
     ]
    },
    {
     "data": {
      "text/html": [
       "<div>\n",
       "<style scoped>\n",
       "    .dataframe tbody tr th:only-of-type {\n",
       "        vertical-align: middle;\n",
       "    }\n",
       "\n",
       "    .dataframe tbody tr th {\n",
       "        vertical-align: top;\n",
       "    }\n",
       "\n",
       "    .dataframe thead th {\n",
       "        text-align: right;\n",
       "    }\n",
       "</style>\n",
       "<table border=\"1\" class=\"dataframe\">\n",
       "  <thead>\n",
       "    <tr style=\"text-align: right;\">\n",
       "      <th></th>\n",
       "      <th>0.00</th>\n",
       "      <th>0.25</th>\n",
       "      <th>0.50</th>\n",
       "      <th>0.75</th>\n",
       "      <th>1.00</th>\n",
       "    </tr>\n",
       "  </thead>\n",
       "  <tbody>\n",
       "    <tr>\n",
       "      <th>0</th>\n",
       "      <td>-2.016049</td>\n",
       "      <td>-2.018674</td>\n",
       "      <td>-2.022735</td>\n",
       "      <td>-2.027868</td>\n",
       "      <td>-2.029826</td>\n",
       "    </tr>\n",
       "    <tr>\n",
       "      <th>1</th>\n",
       "      <td>-1.848015</td>\n",
       "      <td>-1.850295</td>\n",
       "      <td>-1.854036</td>\n",
       "      <td>-1.858615</td>\n",
       "      <td>-1.862466</td>\n",
       "    </tr>\n",
       "    <tr>\n",
       "      <th>2</th>\n",
       "      <td>-1.674976</td>\n",
       "      <td>-1.676623</td>\n",
       "      <td>-1.679499</td>\n",
       "      <td>-1.684606</td>\n",
       "      <td>-1.689599</td>\n",
       "    </tr>\n",
       "    <tr>\n",
       "      <th>3</th>\n",
       "      <td>-1.495243</td>\n",
       "      <td>-1.496573</td>\n",
       "      <td>-1.501343</td>\n",
       "      <td>-1.503361</td>\n",
       "      <td>-1.504467</td>\n",
       "    </tr>\n",
       "    <tr>\n",
       "      <th>4</th>\n",
       "      <td>-1.308390</td>\n",
       "      <td>-1.310181</td>\n",
       "      <td>-1.314741</td>\n",
       "      <td>-1.319816</td>\n",
       "      <td>-1.320700</td>\n",
       "    </tr>\n",
       "    <tr>\n",
       "      <th>5</th>\n",
       "      <td>-1.115442</td>\n",
       "      <td>-1.118805</td>\n",
       "      <td>-1.120524</td>\n",
       "      <td>-1.124764</td>\n",
       "      <td>-1.127521</td>\n",
       "    </tr>\n",
       "    <tr>\n",
       "      <th>6</th>\n",
       "      <td>-0.914575</td>\n",
       "      <td>-0.916855</td>\n",
       "      <td>-0.919466</td>\n",
       "      <td>-0.921963</td>\n",
       "      <td>-0.929443</td>\n",
       "    </tr>\n",
       "    <tr>\n",
       "      <th>7</th>\n",
       "      <td>-0.704454</td>\n",
       "      <td>-0.706093</td>\n",
       "      <td>-0.708512</td>\n",
       "      <td>-0.712508</td>\n",
       "      <td>-0.717461</td>\n",
       "    </tr>\n",
       "    <tr>\n",
       "      <th>8</th>\n",
       "      <td>-0.481601</td>\n",
       "      <td>-0.485588</td>\n",
       "      <td>-0.487493</td>\n",
       "      <td>-0.491670</td>\n",
       "      <td>-0.495185</td>\n",
       "    </tr>\n",
       "    <tr>\n",
       "      <th>9</th>\n",
       "      <td>-0.247076</td>\n",
       "      <td>-0.250462</td>\n",
       "      <td>-0.254522</td>\n",
       "      <td>-0.257802</td>\n",
       "      <td>-0.261614</td>\n",
       "    </tr>\n",
       "    <tr>\n",
       "      <th>10</th>\n",
       "      <td>0.000000</td>\n",
       "      <td>0.000000</td>\n",
       "      <td>0.000000</td>\n",
       "      <td>0.000000</td>\n",
       "      <td>0.000000</td>\n",
       "    </tr>\n",
       "  </tbody>\n",
       "</table>\n",
       "</div>"
      ],
      "text/plain": [
       "        0.00      0.25      0.50      0.75      1.00\n",
       "0  -2.016049 -2.018674 -2.022735 -2.027868 -2.029826\n",
       "1  -1.848015 -1.850295 -1.854036 -1.858615 -1.862466\n",
       "2  -1.674976 -1.676623 -1.679499 -1.684606 -1.689599\n",
       "3  -1.495243 -1.496573 -1.501343 -1.503361 -1.504467\n",
       "4  -1.308390 -1.310181 -1.314741 -1.319816 -1.320700\n",
       "5  -1.115442 -1.118805 -1.120524 -1.124764 -1.127521\n",
       "6  -0.914575 -0.916855 -0.919466 -0.921963 -0.929443\n",
       "7  -0.704454 -0.706093 -0.708512 -0.712508 -0.717461\n",
       "8  -0.481601 -0.485588 -0.487493 -0.491670 -0.495185\n",
       "9  -0.247076 -0.250462 -0.254522 -0.257802 -0.261614\n",
       "10  0.000000  0.000000  0.000000  0.000000  0.000000"
      ]
     },
     "metadata": {},
     "output_type": "display_data"
    },
    {
     "name": "stdout",
     "output_type": "stream",
     "text": [
      "Optimal policy:\n",
      "0     0.00\n",
      "1     0.00\n",
      "2     0.00\n",
      "3     0.00\n",
      "4     0.00\n",
      "5     0.00\n",
      "6     0.00\n",
      "7     0.00\n",
      "8     0.00\n",
      "9     0.00\n",
      "10    0.00\n",
      "dtype: object\n"
     ]
    }
   ],
   "source": [
    "from mdp_agent.policy import Policy\n",
    "from mdp_agent.action_space import ActionSpace\n",
    "from mdp_env.risky_asset import RiskyAsset\n",
    "from mdp_env.risk_free_asset import RiskFreeAsset\n",
    "from mdp_env.train import train\n",
    "from mdp_env.reward import reward_eval\n",
    "import numpy as np\n",
    "from decimal import Decimal\n",
    "\n",
    "\n",
    "# Parameters Configuration\n",
    "EPOCHS = 20000\n",
    "# Total time periods\n",
    "T = 10\n",
    "# init for epsilon-greedy\n",
    "INIT_EPSILON = 0.3\n",
    "# init for learning rate\n",
    "INIT_ALPHA = 0.01\n",
    "# state space: this is dependent on time, per section 8.4 of Rao and Jelvis.\n",
    "states = np.arange(0, T + 1, 1)\n",
    "# action space\n",
    "actions = ActionSpace(\n",
    "    Decimal(\"0\"),\n",
    "    Decimal(\"1.0\"),\n",
    "    Decimal(\"0.25\"))\n",
    "# policy\n",
    "policy = Policy(\n",
    "    epochs=EPOCHS,\n",
    "    init_epsilon=INIT_EPSILON,\n",
    "    init_alpha=INIT_ALPHA,\n",
    "    state_space=states,\n",
    "    action_space=actions,\n",
    "    training=True\n",
    ")\n",
    "# assets\n",
    "risky_asset = RiskyAsset(0.04, -0.04, 0.5)\n",
    "risk_free_asset = RiskFreeAsset(0.04)\n",
    "# CARA Coefficient\n",
    "CARA_COEF = 1\n",
    "\n",
    "\n",
    "train(\n",
    "    epochs=EPOCHS,\n",
    "    T=T,\n",
    "    risky_asset=risky_asset,\n",
    "    risk_free_asset=risk_free_asset,\n",
    "    policy=policy,\n",
    "    reward_eval=reward_eval,\n",
    "    cara_coef=CARA_COEF,\n",
    "    early_stopping=1e-4\n",
    ")\n",
    "\n",
    "display(policy.q_table)\n",
    "\n",
    "print(\"Optimal policy:\")\n",
    "policy.print()\n"
   ]
  },
  {
   "cell_type": "markdown",
   "metadata": {},
   "source": [
    "# Case 4: Risky Asset usually gives same return as Risk-Free, but sometimes incur huge loss\n",
    "Condition: (a == r) & (r >> b) & (p > (1-p))"
   ]
  },
  {
   "cell_type": "code",
   "execution_count": 7,
   "metadata": {},
   "outputs": [
    {
     "name": "stderr",
     "output_type": "stream",
     "text": [
      "  0%|          | 68/30000 [00:00<01:29, 334.75it/s]"
     ]
    },
    {
     "name": "stdout",
     "output_type": "stream",
     "text": [
      "Epoch: 0\n",
      "Alpha: 0.005000, Epsilon: 0.299988.\n"
     ]
    },
    {
     "name": "stderr",
     "output_type": "stream",
     "text": [
      " 10%|█         | 3063/30000 [00:08<01:16, 351.69it/s]"
     ]
    },
    {
     "name": "stdout",
     "output_type": "stream",
     "text": [
      "Epoch: 3000\n",
      "Alpha: 0.004500, Epsilon: 0.263988.\n",
      "Last 10 max delta mean: 0.001981.\n"
     ]
    },
    {
     "name": "stderr",
     "output_type": "stream",
     "text": [
      " 20%|██        | 6052/30000 [00:17<01:08, 351.88it/s]"
     ]
    },
    {
     "name": "stdout",
     "output_type": "stream",
     "text": [
      "Epoch: 6000\n",
      "Alpha: 0.004000, Epsilon: 0.227988.\n",
      "Last 10 max delta mean: 0.001645.\n"
     ]
    },
    {
     "name": "stderr",
     "output_type": "stream",
     "text": [
      " 30%|███       | 9040/30000 [00:26<01:03, 330.49it/s]"
     ]
    },
    {
     "name": "stdout",
     "output_type": "stream",
     "text": [
      "Epoch: 9000\n",
      "Alpha: 0.003500, Epsilon: 0.191988.\n",
      "Last 10 max delta mean: 0.001042.\n"
     ]
    },
    {
     "name": "stderr",
     "output_type": "stream",
     "text": [
      " 40%|████      | 12042/30000 [00:35<00:52, 341.14it/s]"
     ]
    },
    {
     "name": "stdout",
     "output_type": "stream",
     "text": [
      "Epoch: 12000\n",
      "Alpha: 0.003000, Epsilon: 0.155988.\n",
      "Last 10 max delta mean: 0.000674.\n"
     ]
    },
    {
     "name": "stderr",
     "output_type": "stream",
     "text": [
      " 50%|█████     | 15046/30000 [00:44<00:46, 324.17it/s]"
     ]
    },
    {
     "name": "stdout",
     "output_type": "stream",
     "text": [
      "Epoch: 15000\n",
      "Alpha: 0.002500, Epsilon: 0.119988.\n",
      "Last 10 max delta mean: 0.000448.\n"
     ]
    },
    {
     "name": "stderr",
     "output_type": "stream",
     "text": [
      " 60%|██████    | 18068/30000 [00:53<00:34, 350.82it/s]"
     ]
    },
    {
     "name": "stdout",
     "output_type": "stream",
     "text": [
      "Epoch: 18000\n",
      "Alpha: 0.002000, Epsilon: 0.083988.\n",
      "Last 10 max delta mean: 0.000310.\n"
     ]
    },
    {
     "name": "stderr",
     "output_type": "stream",
     "text": [
      " 70%|███████   | 21039/30000 [01:01<00:25, 355.72it/s]"
     ]
    },
    {
     "name": "stdout",
     "output_type": "stream",
     "text": [
      "Epoch: 21000\n",
      "Alpha: 0.001500, Epsilon: 0.047988.\n",
      "Last 10 max delta mean: 0.000252.\n"
     ]
    },
    {
     "name": "stderr",
     "output_type": "stream",
     "text": [
      " 80%|████████  | 24061/30000 [01:10<00:16, 354.90it/s]"
     ]
    },
    {
     "name": "stdout",
     "output_type": "stream",
     "text": [
      "Epoch: 24000\n",
      "Alpha: 0.001000, Epsilon: 0.011988.\n",
      "Last 10 max delta mean: 0.000381.\n"
     ]
    },
    {
     "name": "stderr",
     "output_type": "stream",
     "text": [
      " 90%|█████████ | 27041/30000 [01:18<00:08, 355.27it/s]"
     ]
    },
    {
     "name": "stdout",
     "output_type": "stream",
     "text": [
      "Epoch: 27000\n",
      "Alpha: 0.000500, Epsilon: 0.000000.\n",
      "Last 10 max delta mean: 0.000311.\n"
     ]
    },
    {
     "name": "stderr",
     "output_type": "stream",
     "text": [
      "100%|██████████| 30000/30000 [01:26<00:00, 345.85it/s]\n"
     ]
    },
    {
     "data": {
      "text/html": [
       "<div>\n",
       "<style scoped>\n",
       "    .dataframe tbody tr th:only-of-type {\n",
       "        vertical-align: middle;\n",
       "    }\n",
       "\n",
       "    .dataframe tbody tr th {\n",
       "        vertical-align: top;\n",
       "    }\n",
       "\n",
       "    .dataframe thead th {\n",
       "        text-align: right;\n",
       "    }\n",
       "</style>\n",
       "<table border=\"1\" class=\"dataframe\">\n",
       "  <thead>\n",
       "    <tr style=\"text-align: right;\">\n",
       "      <th></th>\n",
       "      <th>0.00</th>\n",
       "      <th>0.25</th>\n",
       "      <th>0.50</th>\n",
       "      <th>0.75</th>\n",
       "      <th>1.00</th>\n",
       "    </tr>\n",
       "  </thead>\n",
       "  <tbody>\n",
       "    <tr>\n",
       "      <th>0</th>\n",
       "      <td>-3.068152</td>\n",
       "      <td>-3.099246</td>\n",
       "      <td>-3.107551</td>\n",
       "      <td>-3.110378</td>\n",
       "      <td>-3.124791</td>\n",
       "    </tr>\n",
       "    <tr>\n",
       "      <th>1</th>\n",
       "      <td>-2.713314</td>\n",
       "      <td>-2.744986</td>\n",
       "      <td>-2.747955</td>\n",
       "      <td>-2.757147</td>\n",
       "      <td>-2.767963</td>\n",
       "    </tr>\n",
       "    <tr>\n",
       "      <th>2</th>\n",
       "      <td>-2.371390</td>\n",
       "      <td>-2.398677</td>\n",
       "      <td>-2.403949</td>\n",
       "      <td>-2.408100</td>\n",
       "      <td>-2.420212</td>\n",
       "    </tr>\n",
       "    <tr>\n",
       "      <th>3</th>\n",
       "      <td>-2.040932</td>\n",
       "      <td>-2.066214</td>\n",
       "      <td>-2.065036</td>\n",
       "      <td>-2.076818</td>\n",
       "      <td>-2.083233</td>\n",
       "    </tr>\n",
       "    <tr>\n",
       "      <th>4</th>\n",
       "      <td>-1.718805</td>\n",
       "      <td>-1.738985</td>\n",
       "      <td>-1.741675</td>\n",
       "      <td>-1.746789</td>\n",
       "      <td>-1.760895</td>\n",
       "    </tr>\n",
       "    <tr>\n",
       "      <th>5</th>\n",
       "      <td>-1.405879</td>\n",
       "      <td>-1.423288</td>\n",
       "      <td>-1.428389</td>\n",
       "      <td>-1.434124</td>\n",
       "      <td>-1.446798</td>\n",
       "    </tr>\n",
       "    <tr>\n",
       "      <th>6</th>\n",
       "      <td>-1.104281</td>\n",
       "      <td>-1.126101</td>\n",
       "      <td>-1.122910</td>\n",
       "      <td>-1.129631</td>\n",
       "      <td>-1.143152</td>\n",
       "    </tr>\n",
       "    <tr>\n",
       "      <th>7</th>\n",
       "      <td>-0.812027</td>\n",
       "      <td>-0.822961</td>\n",
       "      <td>-0.832250</td>\n",
       "      <td>-0.844887</td>\n",
       "      <td>-0.844759</td>\n",
       "    </tr>\n",
       "    <tr>\n",
       "      <th>8</th>\n",
       "      <td>-0.534263</td>\n",
       "      <td>-0.540621</td>\n",
       "      <td>-0.549625</td>\n",
       "      <td>-0.557401</td>\n",
       "      <td>-0.574526</td>\n",
       "    </tr>\n",
       "    <tr>\n",
       "      <th>9</th>\n",
       "      <td>-0.262229</td>\n",
       "      <td>-0.268685</td>\n",
       "      <td>-0.281004</td>\n",
       "      <td>-0.284015</td>\n",
       "      <td>-0.291729</td>\n",
       "    </tr>\n",
       "    <tr>\n",
       "      <th>10</th>\n",
       "      <td>0.000000</td>\n",
       "      <td>0.000000</td>\n",
       "      <td>0.000000</td>\n",
       "      <td>0.000000</td>\n",
       "      <td>0.000000</td>\n",
       "    </tr>\n",
       "  </tbody>\n",
       "</table>\n",
       "</div>"
      ],
      "text/plain": [
       "        0.00      0.25      0.50      0.75      1.00\n",
       "0  -3.068152 -3.099246 -3.107551 -3.110378 -3.124791\n",
       "1  -2.713314 -2.744986 -2.747955 -2.757147 -2.767963\n",
       "2  -2.371390 -2.398677 -2.403949 -2.408100 -2.420212\n",
       "3  -2.040932 -2.066214 -2.065036 -2.076818 -2.083233\n",
       "4  -1.718805 -1.738985 -1.741675 -1.746789 -1.760895\n",
       "5  -1.405879 -1.423288 -1.428389 -1.434124 -1.446798\n",
       "6  -1.104281 -1.126101 -1.122910 -1.129631 -1.143152\n",
       "7  -0.812027 -0.822961 -0.832250 -0.844887 -0.844759\n",
       "8  -0.534263 -0.540621 -0.549625 -0.557401 -0.574526\n",
       "9  -0.262229 -0.268685 -0.281004 -0.284015 -0.291729\n",
       "10  0.000000  0.000000  0.000000  0.000000  0.000000"
      ]
     },
     "metadata": {},
     "output_type": "display_data"
    },
    {
     "name": "stdout",
     "output_type": "stream",
     "text": [
      "Optimal policy:\n",
      "0     0.00\n",
      "1     0.00\n",
      "2     0.00\n",
      "3     0.00\n",
      "4     0.00\n",
      "5     0.00\n",
      "6     0.00\n",
      "7     0.00\n",
      "8     0.00\n",
      "9     0.00\n",
      "10    0.00\n",
      "dtype: object\n"
     ]
    }
   ],
   "source": [
    "from mdp_agent.policy import Policy\n",
    "from mdp_agent.action_space import ActionSpace\n",
    "from mdp_env.risky_asset import RiskyAsset\n",
    "from mdp_env.risk_free_asset import RiskFreeAsset\n",
    "from mdp_env.train import train\n",
    "from mdp_env.reward import reward_eval\n",
    "import numpy as np\n",
    "from decimal import Decimal\n",
    "\n",
    "\n",
    "# Parameters Configuration\n",
    "EPOCHS = 30000\n",
    "# Total time periods\n",
    "T = 10\n",
    "# init for epsilon-greedy\n",
    "INIT_EPSILON = 0.3\n",
    "# init for learning rate\n",
    "INIT_ALPHA = 0.005\n",
    "# state space: this is dependent on time, per section 8.4 of Rao and Jelvis.\n",
    "states = np.arange(0, T + 1, 1)\n",
    "# action space\n",
    "actions = ActionSpace(\n",
    "    Decimal(\"0\"),\n",
    "    Decimal(\"1.0\"),\n",
    "    Decimal(\"0.25\"))\n",
    "# policy\n",
    "policy = Policy(\n",
    "    epochs=EPOCHS,\n",
    "    init_epsilon=INIT_EPSILON,\n",
    "    init_alpha=INIT_ALPHA,\n",
    "    state_space=states,\n",
    "    action_space=actions,\n",
    "    training=True,\n",
    "    gamma=1.0\n",
    ")\n",
    "# assets\n",
    "risky_asset = RiskyAsset(0.04, -0.3, 0.80)\n",
    "risk_free_asset = RiskFreeAsset(0.04)\n",
    "# CARA Coefficient\n",
    "CARA_COEF = 1\n",
    "\n",
    "\n",
    "train(\n",
    "    epochs=EPOCHS,\n",
    "    T=T,\n",
    "    risky_asset=risky_asset,\n",
    "    risk_free_asset=risk_free_asset,\n",
    "    policy=policy,\n",
    "    reward_eval=reward_eval,\n",
    "    cara_coef=CARA_COEF,\n",
    "    early_stopping=1e-4\n",
    ")\n",
    "\n",
    "display(policy.q_table)\n",
    "\n",
    "print(\"Optimal policy:\")\n",
    "policy.print()\n"
   ]
  }
 ],
 "metadata": {
  "kernelspec": {
   "display_name": "6000m_a1",
   "language": "python",
   "name": "python3"
  },
  "language_info": {
   "codemirror_mode": {
    "name": "ipython",
    "version": 3
   },
   "file_extension": ".py",
   "mimetype": "text/x-python",
   "name": "python",
   "nbconvert_exporter": "python",
   "pygments_lexer": "ipython3",
   "version": "3.12.7"
  }
 },
 "nbformat": 4,
 "nbformat_minor": 2
}
