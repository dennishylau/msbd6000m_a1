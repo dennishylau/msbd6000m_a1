{
 "cells": [
  {
   "cell_type": "markdown",
   "metadata": {},
   "source": [
    "# Case 1: Risky Asset always better\n",
    "Condition: a > r & b > r"
   ]
  },
  {
   "cell_type": "code",
   "execution_count": null,
   "metadata": {},
   "outputs": [
    {
     "name": "stderr",
     "output_type": "stream",
     "text": [
      "  0%|          | 70/20000 [00:00<00:57, 348.01it/s]"
     ]
    },
    {
     "name": "stdout",
     "output_type": "stream",
     "text": [
      "Epoch: 0\n",
      "Alpha: 0.010000, Epsilon: 0.299982.\n"
     ]
    },
    {
     "name": "stderr",
     "output_type": "stream",
     "text": [
      "  5%|▌         | 1059/20000 [00:02<00:52, 360.91it/s]"
     ]
    },
    {
     "name": "stdout",
     "output_type": "stream",
     "text": [
      "Epoch: 1000\n",
      "Alpha: 0.009500, Epsilon: 0.281982.\n",
      "Last 10 max delta mean: 0.001369.\n"
     ]
    },
    {
     "name": "stderr",
     "output_type": "stream",
     "text": [
      " 10%|█         | 2047/20000 [00:05<00:50, 358.19it/s]"
     ]
    },
    {
     "name": "stdout",
     "output_type": "stream",
     "text": [
      "Epoch: 2000\n",
      "Alpha: 0.009000, Epsilon: 0.263982.\n",
      "Last 10 max delta mean: 0.000587.\n"
     ]
    },
    {
     "name": "stderr",
     "output_type": "stream",
     "text": [
      " 15%|█▌        | 3044/20000 [00:08<00:48, 351.01it/s]"
     ]
    },
    {
     "name": "stdout",
     "output_type": "stream",
     "text": [
      "Epoch: 3000\n",
      "Alpha: 0.008500, Epsilon: 0.245982.\n",
      "Last 10 max delta mean: 0.000340.\n"
     ]
    },
    {
     "name": "stderr",
     "output_type": "stream",
     "text": [
      " 20%|██        | 4046/20000 [00:11<00:46, 339.56it/s]"
     ]
    },
    {
     "name": "stdout",
     "output_type": "stream",
     "text": [
      "Epoch: 4000\n",
      "Alpha: 0.008000, Epsilon: 0.227982.\n",
      "Last 10 max delta mean: 0.000358.\n"
     ]
    },
    {
     "name": "stderr",
     "output_type": "stream",
     "text": [
      " 25%|██▌       | 5051/20000 [00:14<00:42, 354.43it/s]"
     ]
    },
    {
     "name": "stdout",
     "output_type": "stream",
     "text": [
      "Epoch: 5000\n",
      "Alpha: 0.007500, Epsilon: 0.209982.\n",
      "Last 10 max delta mean: 0.000267.\n"
     ]
    },
    {
     "name": "stderr",
     "output_type": "stream",
     "text": [
      " 30%|███       | 6065/20000 [00:17<00:39, 350.46it/s]"
     ]
    },
    {
     "name": "stdout",
     "output_type": "stream",
     "text": [
      "Epoch: 6000\n",
      "Alpha: 0.007000, Epsilon: 0.191982.\n",
      "Last 10 max delta mean: 0.000312.\n"
     ]
    },
    {
     "name": "stderr",
     "output_type": "stream",
     "text": [
      " 31%|███       | 6187/20000 [00:17<00:39, 352.72it/s]"
     ]
    },
    {
     "name": "stdout",
     "output_type": "stream",
     "text": [
      "Converged. Total Epochs: 6187.\n",
      "Last 10 max delta mean: 0.000199.\n"
     ]
    },
    {
     "name": "stderr",
     "output_type": "stream",
     "text": [
      "\n"
     ]
    },
    {
     "data": {
      "text/html": [
       "<div>\n",
       "<style scoped>\n",
       "    .dataframe tbody tr th:only-of-type {\n",
       "        vertical-align: middle;\n",
       "    }\n",
       "\n",
       "    .dataframe tbody tr th {\n",
       "        vertical-align: top;\n",
       "    }\n",
       "\n",
       "    .dataframe thead th {\n",
       "        text-align: right;\n",
       "    }\n",
       "</style>\n",
       "<table border=\"1\" class=\"dataframe\">\n",
       "  <thead>\n",
       "    <tr style=\"text-align: right;\">\n",
       "      <th></th>\n",
       "      <th>0.00</th>\n",
       "      <th>0.20</th>\n",
       "      <th>0.40</th>\n",
       "      <th>0.60</th>\n",
       "      <th>0.80</th>\n",
       "      <th>1.00</th>\n",
       "    </tr>\n",
       "  </thead>\n",
       "  <tbody>\n",
       "    <tr>\n",
       "      <th>0</th>\n",
       "      <td>-0.599760</td>\n",
       "      <td>-0.593824</td>\n",
       "      <td>-0.590448</td>\n",
       "      <td>-0.585772</td>\n",
       "      <td>-0.581778</td>\n",
       "      <td>-0.574959</td>\n",
       "    </tr>\n",
       "    <tr>\n",
       "      <th>1</th>\n",
       "      <td>-0.528117</td>\n",
       "      <td>-0.525299</td>\n",
       "      <td>-0.518418</td>\n",
       "      <td>-0.513292</td>\n",
       "      <td>-0.509651</td>\n",
       "      <td>-0.503433</td>\n",
       "    </tr>\n",
       "    <tr>\n",
       "      <th>2</th>\n",
       "      <td>-0.460607</td>\n",
       "      <td>-0.456245</td>\n",
       "      <td>-0.451550</td>\n",
       "      <td>-0.444642</td>\n",
       "      <td>-0.442162</td>\n",
       "      <td>-0.434212</td>\n",
       "    </tr>\n",
       "    <tr>\n",
       "      <th>3</th>\n",
       "      <td>-0.392718</td>\n",
       "      <td>-0.390746</td>\n",
       "      <td>-0.387635</td>\n",
       "      <td>-0.383279</td>\n",
       "      <td>-0.375211</td>\n",
       "      <td>-0.367587</td>\n",
       "    </tr>\n",
       "    <tr>\n",
       "      <th>4</th>\n",
       "      <td>-0.333446</td>\n",
       "      <td>-0.328749</td>\n",
       "      <td>-0.325086</td>\n",
       "      <td>-0.317792</td>\n",
       "      <td>-0.318017</td>\n",
       "      <td>-0.306468</td>\n",
       "    </tr>\n",
       "    <tr>\n",
       "      <th>5</th>\n",
       "      <td>-0.278323</td>\n",
       "      <td>-0.274195</td>\n",
       "      <td>-0.269810</td>\n",
       "      <td>-0.260013</td>\n",
       "      <td>-0.260813</td>\n",
       "      <td>-0.251934</td>\n",
       "    </tr>\n",
       "    <tr>\n",
       "      <th>6</th>\n",
       "      <td>-0.224339</td>\n",
       "      <td>-0.218904</td>\n",
       "      <td>-0.216483</td>\n",
       "      <td>-0.212360</td>\n",
       "      <td>-0.201795</td>\n",
       "      <td>-0.200747</td>\n",
       "    </tr>\n",
       "    <tr>\n",
       "      <th>7</th>\n",
       "      <td>-0.176220</td>\n",
       "      <td>-0.173037</td>\n",
       "      <td>-0.168716</td>\n",
       "      <td>-0.166101</td>\n",
       "      <td>-0.162601</td>\n",
       "      <td>-0.150571</td>\n",
       "    </tr>\n",
       "    <tr>\n",
       "      <th>8</th>\n",
       "      <td>-0.125810</td>\n",
       "      <td>-0.122534</td>\n",
       "      <td>-0.121952</td>\n",
       "      <td>-0.115964</td>\n",
       "      <td>-0.112790</td>\n",
       "      <td>-0.105154</td>\n",
       "    </tr>\n",
       "    <tr>\n",
       "      <th>9</th>\n",
       "      <td>-0.074189</td>\n",
       "      <td>-0.070822</td>\n",
       "      <td>-0.071092</td>\n",
       "      <td>-0.066568</td>\n",
       "      <td>-0.065762</td>\n",
       "      <td>-0.057116</td>\n",
       "    </tr>\n",
       "    <tr>\n",
       "      <th>10</th>\n",
       "      <td>0.000000</td>\n",
       "      <td>0.000000</td>\n",
       "      <td>0.000000</td>\n",
       "      <td>0.000000</td>\n",
       "      <td>0.000000</td>\n",
       "      <td>0.000000</td>\n",
       "    </tr>\n",
       "  </tbody>\n",
       "</table>\n",
       "</div>"
      ],
      "text/plain": [
       "        0.00      0.20      0.40      0.60      0.80      1.00\n",
       "0  -0.599760 -0.593824 -0.590448 -0.585772 -0.581778 -0.574959\n",
       "1  -0.528117 -0.525299 -0.518418 -0.513292 -0.509651 -0.503433\n",
       "2  -0.460607 -0.456245 -0.451550 -0.444642 -0.442162 -0.434212\n",
       "3  -0.392718 -0.390746 -0.387635 -0.383279 -0.375211 -0.367587\n",
       "4  -0.333446 -0.328749 -0.325086 -0.317792 -0.318017 -0.306468\n",
       "5  -0.278323 -0.274195 -0.269810 -0.260013 -0.260813 -0.251934\n",
       "6  -0.224339 -0.218904 -0.216483 -0.212360 -0.201795 -0.200747\n",
       "7  -0.176220 -0.173037 -0.168716 -0.166101 -0.162601 -0.150571\n",
       "8  -0.125810 -0.122534 -0.121952 -0.115964 -0.112790 -0.105154\n",
       "9  -0.074189 -0.070822 -0.071092 -0.066568 -0.065762 -0.057116\n",
       "10  0.000000  0.000000  0.000000  0.000000  0.000000  0.000000"
      ]
     },
     "metadata": {},
     "output_type": "display_data"
    },
    {
     "name": "stdout",
     "output_type": "stream",
     "text": [
      "Optimal policy:\n",
      "0     1.00\n",
      "1     1.00\n",
      "2     1.00\n",
      "3     1.00\n",
      "4     1.00\n",
      "5     1.00\n",
      "6     1.00\n",
      "7     1.00\n",
      "8     1.00\n",
      "9     1.00\n",
      "10    0.00\n",
      "dtype: object\n"
     ]
    }
   ],
   "source": [
    "from mdp_agent.policy import Policy\n",
    "from mdp_agent.action_space import ActionSpace\n",
    "from mdp_env.risky_asset import RiskyAsset\n",
    "from mdp_env.risk_free_asset import RiskFreeAsset\n",
    "from mdp_env.train import train\n",
    "from mdp_env.reward import reward_eval\n",
    "import numpy as np\n",
    "from decimal import Decimal\n",
    "\n",
    "\n",
    "# Parameters Configuration\n",
    "EPOCHS = 20000\n",
    "# Total time periods\n",
    "T = 10\n",
    "# init for epsilon-greedy\n",
    "INIT_EPSILON = 0.3\n",
    "# init for learning rate\n",
    "INIT_ALPHA = 0.01\n",
    "# state space: this is dependent on time, per section 8.4 of Rao and Jelvis.\n",
    "states = np.arange(0, T + 1, 1)\n",
    "# action space\n",
    "actions = ActionSpace(\n",
    "    Decimal(\"0\"),\n",
    "    Decimal(\"1.0\"),\n",
    "    Decimal(\"0.2\"))\n",
    "# policy\n",
    "policy = Policy(\n",
    "    epochs=EPOCHS,\n",
    "    init_epsilon=INIT_EPSILON,\n",
    "    init_alpha=INIT_ALPHA,\n",
    "    state_space=states,\n",
    "    action_space=actions,\n",
    "    training=True\n",
    ")\n",
    "# assets\n",
    "risky_asset = RiskyAsset(0.15, 0.1, 0.5)\n",
    "risk_free_asset = RiskFreeAsset(0.04)\n",
    "# CARA Coefficient\n",
    "CARA_COEF = 1\n",
    "\n",
    "\n",
    "train(\n",
    "    epochs=EPOCHS,\n",
    "    T=T,\n",
    "    risky_asset=risky_asset,\n",
    "    risk_free_asset=risk_free_asset,\n",
    "    policy=policy,\n",
    "    reward_eval=reward_eval,\n",
    "    cara_coef=CARA_COEF,\n",
    "    early_stopping=2e-4\n",
    ")\n",
    "\n",
    "display(policy.q_table)\n",
    "\n",
    "print(\"Optimal policy:\")\n",
    "policy.print()\n"
   ]
  },
  {
   "cell_type": "markdown",
   "metadata": {},
   "source": [
    "# Case 2: Risk-Free Asset always better\n",
    "Condition: a < r & b < r"
   ]
  },
  {
   "cell_type": "code",
   "execution_count": 5,
   "metadata": {},
   "outputs": [
    {
     "name": "stderr",
     "output_type": "stream",
     "text": [
      "  1%|          | 103/20000 [00:00<00:58, 337.44it/s]"
     ]
    },
    {
     "name": "stdout",
     "output_type": "stream",
     "text": [
      "Epoch: 0\n",
      "Alpha: 0.010000, Epsilon: 0.299982.\n"
     ]
    },
    {
     "name": "stderr",
     "output_type": "stream",
     "text": [
      "  5%|▌         | 1064/20000 [00:03<00:54, 345.32it/s]"
     ]
    },
    {
     "name": "stdout",
     "output_type": "stream",
     "text": [
      "Epoch: 1000\n",
      "Alpha: 0.009500, Epsilon: 0.281982.\n",
      "Last 10 max delta mean: 0.002021.\n"
     ]
    },
    {
     "name": "stderr",
     "output_type": "stream",
     "text": [
      " 10%|█         | 2043/20000 [00:05<00:50, 354.96it/s]"
     ]
    },
    {
     "name": "stdout",
     "output_type": "stream",
     "text": [
      "Epoch: 2000\n",
      "Alpha: 0.009000, Epsilon: 0.263982.\n",
      "Last 10 max delta mean: 0.000946.\n"
     ]
    },
    {
     "name": "stderr",
     "output_type": "stream",
     "text": [
      " 15%|█▌        | 3049/20000 [00:08<00:48, 350.56it/s]"
     ]
    },
    {
     "name": "stdout",
     "output_type": "stream",
     "text": [
      "Epoch: 3000\n",
      "Alpha: 0.008500, Epsilon: 0.245982.\n",
      "Last 10 max delta mean: 0.000530.\n"
     ]
    },
    {
     "name": "stderr",
     "output_type": "stream",
     "text": [
      " 20%|██        | 4060/20000 [00:11<00:47, 338.83it/s]"
     ]
    },
    {
     "name": "stdout",
     "output_type": "stream",
     "text": [
      "Epoch: 4000\n",
      "Alpha: 0.008000, Epsilon: 0.227982.\n",
      "Last 10 max delta mean: 0.000697.\n"
     ]
    },
    {
     "name": "stderr",
     "output_type": "stream",
     "text": [
      " 25%|██▌       | 5075/20000 [00:14<00:41, 359.77it/s]"
     ]
    },
    {
     "name": "stdout",
     "output_type": "stream",
     "text": [
      "Epoch: 5000\n",
      "Alpha: 0.007500, Epsilon: 0.209982.\n",
      "Last 10 max delta mean: 0.000546.\n"
     ]
    },
    {
     "name": "stderr",
     "output_type": "stream",
     "text": [
      " 30%|███       | 6052/20000 [00:17<00:38, 358.08it/s]"
     ]
    },
    {
     "name": "stdout",
     "output_type": "stream",
     "text": [
      "Epoch: 6000\n",
      "Alpha: 0.007000, Epsilon: 0.191982.\n",
      "Last 10 max delta mean: 0.000488.\n"
     ]
    },
    {
     "name": "stderr",
     "output_type": "stream",
     "text": [
      " 35%|███▌      | 7063/20000 [00:20<00:36, 354.84it/s]"
     ]
    },
    {
     "name": "stdout",
     "output_type": "stream",
     "text": [
      "Epoch: 7000\n",
      "Alpha: 0.006500, Epsilon: 0.173982.\n",
      "Last 10 max delta mean: 0.000411.\n"
     ]
    },
    {
     "name": "stderr",
     "output_type": "stream",
     "text": [
      " 40%|████      | 8061/20000 [00:23<00:34, 348.01it/s]"
     ]
    },
    {
     "name": "stdout",
     "output_type": "stream",
     "text": [
      "Epoch: 8000\n",
      "Alpha: 0.006000, Epsilon: 0.155982.\n",
      "Last 10 max delta mean: 0.000428.\n"
     ]
    },
    {
     "name": "stderr",
     "output_type": "stream",
     "text": [
      " 45%|████▌     | 9069/20000 [00:25<00:32, 339.99it/s]"
     ]
    },
    {
     "name": "stdout",
     "output_type": "stream",
     "text": [
      "Epoch: 9000\n",
      "Alpha: 0.005500, Epsilon: 0.137982.\n",
      "Last 10 max delta mean: 0.000447.\n"
     ]
    },
    {
     "name": "stderr",
     "output_type": "stream",
     "text": [
      " 50%|█████     | 10064/20000 [00:28<00:28, 351.07it/s]"
     ]
    },
    {
     "name": "stdout",
     "output_type": "stream",
     "text": [
      "Epoch: 10000\n",
      "Alpha: 0.005000, Epsilon: 0.119982.\n",
      "Last 10 max delta mean: 0.000375.\n"
     ]
    },
    {
     "name": "stderr",
     "output_type": "stream",
     "text": [
      " 55%|█████▌    | 11043/20000 [00:31<00:25, 356.42it/s]"
     ]
    },
    {
     "name": "stdout",
     "output_type": "stream",
     "text": [
      "Epoch: 11000\n",
      "Alpha: 0.004500, Epsilon: 0.101982.\n",
      "Last 10 max delta mean: 0.000367.\n"
     ]
    },
    {
     "name": "stderr",
     "output_type": "stream",
     "text": [
      " 60%|██████    | 12057/20000 [00:34<00:22, 353.47it/s]"
     ]
    },
    {
     "name": "stdout",
     "output_type": "stream",
     "text": [
      "Epoch: 12000\n",
      "Alpha: 0.004000, Epsilon: 0.083982.\n",
      "Last 10 max delta mean: 0.000603.\n"
     ]
    },
    {
     "name": "stderr",
     "output_type": "stream",
     "text": [
      " 65%|██████▌   | 13067/20000 [00:37<00:19, 355.37it/s]"
     ]
    },
    {
     "name": "stdout",
     "output_type": "stream",
     "text": [
      "Epoch: 13000\n",
      "Alpha: 0.003500, Epsilon: 0.065982.\n",
      "Last 10 max delta mean: 0.000454.\n"
     ]
    },
    {
     "name": "stderr",
     "output_type": "stream",
     "text": [
      " 70%|███████   | 14041/20000 [00:40<00:16, 358.19it/s]"
     ]
    },
    {
     "name": "stdout",
     "output_type": "stream",
     "text": [
      "Epoch: 14000\n",
      "Alpha: 0.003000, Epsilon: 0.047982.\n",
      "Last 10 max delta mean: 0.000397.\n"
     ]
    },
    {
     "name": "stderr",
     "output_type": "stream",
     "text": [
      " 75%|███████▌  | 15054/20000 [00:43<00:13, 355.91it/s]"
     ]
    },
    {
     "name": "stdout",
     "output_type": "stream",
     "text": [
      "Epoch: 15000\n",
      "Alpha: 0.002500, Epsilon: 0.029982.\n",
      "Last 10 max delta mean: 0.000340.\n"
     ]
    },
    {
     "name": "stderr",
     "output_type": "stream",
     "text": [
      " 80%|████████  | 16069/20000 [00:45<00:11, 350.20it/s]"
     ]
    },
    {
     "name": "stdout",
     "output_type": "stream",
     "text": [
      "Epoch: 16000\n",
      "Alpha: 0.002000, Epsilon: 0.011982.\n",
      "Last 10 max delta mean: 0.000418.\n"
     ]
    },
    {
     "name": "stderr",
     "output_type": "stream",
     "text": [
      " 85%|████████▌ | 17061/20000 [00:48<00:08, 327.37it/s]"
     ]
    },
    {
     "name": "stdout",
     "output_type": "stream",
     "text": [
      "Epoch: 17000\n",
      "Alpha: 0.001500, Epsilon: 0.000000.\n",
      "Last 10 max delta mean: 0.000403.\n"
     ]
    },
    {
     "name": "stderr",
     "output_type": "stream",
     "text": [
      " 90%|█████████ | 18059/20000 [00:51<00:05, 354.84it/s]"
     ]
    },
    {
     "name": "stdout",
     "output_type": "stream",
     "text": [
      "Epoch: 18000\n",
      "Alpha: 0.001000, Epsilon: 0.000000.\n",
      "Last 10 max delta mean: 0.000408.\n"
     ]
    },
    {
     "name": "stderr",
     "output_type": "stream",
     "text": [
      " 95%|█████████▌| 19066/20000 [00:54<00:02, 344.39it/s]"
     ]
    },
    {
     "name": "stdout",
     "output_type": "stream",
     "text": [
      "Epoch: 19000\n",
      "Alpha: 0.000500, Epsilon: 0.000000.\n",
      "Last 10 max delta mean: 0.000314.\n"
     ]
    },
    {
     "name": "stderr",
     "output_type": "stream",
     "text": [
      "100%|██████████| 20000/20000 [00:57<00:00, 349.38it/s]\n"
     ]
    },
    {
     "data": {
      "text/html": [
       "<div>\n",
       "<style scoped>\n",
       "    .dataframe tbody tr th:only-of-type {\n",
       "        vertical-align: middle;\n",
       "    }\n",
       "\n",
       "    .dataframe tbody tr th {\n",
       "        vertical-align: top;\n",
       "    }\n",
       "\n",
       "    .dataframe thead th {\n",
       "        text-align: right;\n",
       "    }\n",
       "</style>\n",
       "<table border=\"1\" class=\"dataframe\">\n",
       "  <thead>\n",
       "    <tr style=\"text-align: right;\">\n",
       "      <th></th>\n",
       "      <th>0.00</th>\n",
       "      <th>0.20</th>\n",
       "      <th>0.40</th>\n",
       "      <th>0.60</th>\n",
       "      <th>0.80</th>\n",
       "      <th>1.00</th>\n",
       "    </tr>\n",
       "  </thead>\n",
       "  <tbody>\n",
       "    <tr>\n",
       "      <th>0</th>\n",
       "      <td>-0.689519</td>\n",
       "      <td>-0.697223</td>\n",
       "      <td>-0.705219</td>\n",
       "      <td>-0.713325</td>\n",
       "      <td>-0.722622</td>\n",
       "      <td>-0.731676</td>\n",
       "    </tr>\n",
       "    <tr>\n",
       "      <th>1</th>\n",
       "      <td>-0.672988</td>\n",
       "      <td>-0.679755</td>\n",
       "      <td>-0.687493</td>\n",
       "      <td>-0.697202</td>\n",
       "      <td>-0.705994</td>\n",
       "      <td>-0.712844</td>\n",
       "    </tr>\n",
       "    <tr>\n",
       "      <th>2</th>\n",
       "      <td>-0.657022</td>\n",
       "      <td>-0.662586</td>\n",
       "      <td>-0.669563</td>\n",
       "      <td>-0.678823</td>\n",
       "      <td>-0.686477</td>\n",
       "      <td>-0.696650</td>\n",
       "    </tr>\n",
       "    <tr>\n",
       "      <th>3</th>\n",
       "      <td>-0.636401</td>\n",
       "      <td>-0.646002</td>\n",
       "      <td>-0.649932</td>\n",
       "      <td>-0.663242</td>\n",
       "      <td>-0.668939</td>\n",
       "      <td>-0.675136</td>\n",
       "    </tr>\n",
       "    <tr>\n",
       "      <th>4</th>\n",
       "      <td>-0.615275</td>\n",
       "      <td>-0.621778</td>\n",
       "      <td>-0.633057</td>\n",
       "      <td>-0.639593</td>\n",
       "      <td>-0.648478</td>\n",
       "      <td>-0.654927</td>\n",
       "    </tr>\n",
       "    <tr>\n",
       "      <th>5</th>\n",
       "      <td>-0.593679</td>\n",
       "      <td>-0.599825</td>\n",
       "      <td>-0.602379</td>\n",
       "      <td>-0.612838</td>\n",
       "      <td>-0.621739</td>\n",
       "      <td>-0.630329</td>\n",
       "    </tr>\n",
       "    <tr>\n",
       "      <th>6</th>\n",
       "      <td>-0.558664</td>\n",
       "      <td>-0.570847</td>\n",
       "      <td>-0.574277</td>\n",
       "      <td>-0.583627</td>\n",
       "      <td>-0.587036</td>\n",
       "      <td>-0.597800</td>\n",
       "    </tr>\n",
       "    <tr>\n",
       "      <th>7</th>\n",
       "      <td>-0.510051</td>\n",
       "      <td>-0.516701</td>\n",
       "      <td>-0.524067</td>\n",
       "      <td>-0.528856</td>\n",
       "      <td>-0.542495</td>\n",
       "      <td>-0.551755</td>\n",
       "    </tr>\n",
       "    <tr>\n",
       "      <th>8</th>\n",
       "      <td>-0.424515</td>\n",
       "      <td>-0.433741</td>\n",
       "      <td>-0.443076</td>\n",
       "      <td>-0.453176</td>\n",
       "      <td>-0.459664</td>\n",
       "      <td>-0.467901</td>\n",
       "    </tr>\n",
       "    <tr>\n",
       "      <th>9</th>\n",
       "      <td>-0.279052</td>\n",
       "      <td>-0.287449</td>\n",
       "      <td>-0.293001</td>\n",
       "      <td>-0.307112</td>\n",
       "      <td>-0.317388</td>\n",
       "      <td>-0.320800</td>\n",
       "    </tr>\n",
       "    <tr>\n",
       "      <th>10</th>\n",
       "      <td>0.000000</td>\n",
       "      <td>0.000000</td>\n",
       "      <td>0.000000</td>\n",
       "      <td>0.000000</td>\n",
       "      <td>0.000000</td>\n",
       "      <td>0.000000</td>\n",
       "    </tr>\n",
       "  </tbody>\n",
       "</table>\n",
       "</div>"
      ],
      "text/plain": [
       "        0.00      0.20      0.40      0.60      0.80      1.00\n",
       "0  -0.689519 -0.697223 -0.705219 -0.713325 -0.722622 -0.731676\n",
       "1  -0.672988 -0.679755 -0.687493 -0.697202 -0.705994 -0.712844\n",
       "2  -0.657022 -0.662586 -0.669563 -0.678823 -0.686477 -0.696650\n",
       "3  -0.636401 -0.646002 -0.649932 -0.663242 -0.668939 -0.675136\n",
       "4  -0.615275 -0.621778 -0.633057 -0.639593 -0.648478 -0.654927\n",
       "5  -0.593679 -0.599825 -0.602379 -0.612838 -0.621739 -0.630329\n",
       "6  -0.558664 -0.570847 -0.574277 -0.583627 -0.587036 -0.597800\n",
       "7  -0.510051 -0.516701 -0.524067 -0.528856 -0.542495 -0.551755\n",
       "8  -0.424515 -0.433741 -0.443076 -0.453176 -0.459664 -0.467901\n",
       "9  -0.279052 -0.287449 -0.293001 -0.307112 -0.317388 -0.320800\n",
       "10  0.000000  0.000000  0.000000  0.000000  0.000000  0.000000"
      ]
     },
     "metadata": {},
     "output_type": "display_data"
    },
    {
     "name": "stdout",
     "output_type": "stream",
     "text": [
      "Optimal policy:\n",
      "0     0.00\n",
      "1     0.00\n",
      "2     0.00\n",
      "3     0.00\n",
      "4     0.00\n",
      "5     0.00\n",
      "6     0.00\n",
      "7     0.00\n",
      "8     0.00\n",
      "9     0.00\n",
      "10    0.00\n",
      "dtype: object\n"
     ]
    }
   ],
   "source": [
    "from mdp_agent.policy import Policy\n",
    "from mdp_agent.action_space import ActionSpace\n",
    "from mdp_env.risky_asset import RiskyAsset\n",
    "from mdp_env.risk_free_asset import RiskFreeAsset\n",
    "from mdp_env.train import train\n",
    "from mdp_env.reward import reward_eval\n",
    "import numpy as np\n",
    "from decimal import Decimal\n",
    "\n",
    "\n",
    "# Parameters Configuration\n",
    "EPOCHS = 20000\n",
    "# Total time periods\n",
    "T = 10\n",
    "# init for epsilon-greedy\n",
    "INIT_EPSILON = 0.3\n",
    "# init for learning rate\n",
    "INIT_ALPHA = 0.01\n",
    "# state space: this is dependent on time, per section 8.4 of Rao and Jelvis.\n",
    "states = np.arange(0, T + 1, 1)\n",
    "# action space\n",
    "actions = ActionSpace(\n",
    "    Decimal(\"0\"),\n",
    "    Decimal(\"1.0\"),\n",
    "    Decimal(\"0.2\"))\n",
    "# policy\n",
    "policy = Policy(\n",
    "    epochs=EPOCHS,\n",
    "    init_epsilon=INIT_EPSILON,\n",
    "    init_alpha=INIT_ALPHA,\n",
    "    state_space=states,\n",
    "    action_space=actions,\n",
    "    training=True\n",
    ")\n",
    "# assets\n",
    "risky_asset = RiskyAsset(-0.04, -0.10, 0.5)\n",
    "risk_free_asset = RiskFreeAsset(0.04)\n",
    "# CARA Coefficient\n",
    "CARA_COEF = 1\n",
    "\n",
    "\n",
    "train(\n",
    "    epochs=EPOCHS,\n",
    "    T=T,\n",
    "    risky_asset=risky_asset,\n",
    "    risk_free_asset=risk_free_asset,\n",
    "    policy=policy,\n",
    "    reward_eval=reward_eval,\n",
    "    cara_coef=CARA_COEF,\n",
    "    early_stopping=1e-4\n",
    ")\n",
    "\n",
    "display(policy.q_table)\n",
    "\n",
    "print(\"Optimal policy:\")\n",
    "policy.print()\n"
   ]
  },
  {
   "cell_type": "markdown",
   "metadata": {},
   "source": [
    "# Case 3: Risky Asset expected return same as Risk-Free Rate\n",
    "Condition: (a > r) & (b < r) & (a == -b) & (ap + b(1-p) == r)"
   ]
  },
  {
   "cell_type": "code",
   "execution_count": 6,
   "metadata": {},
   "outputs": [
    {
     "name": "stderr",
     "output_type": "stream",
     "text": [
      "  0%|          | 67/20000 [00:00<01:00, 330.80it/s]"
     ]
    },
    {
     "name": "stdout",
     "output_type": "stream",
     "text": [
      "Epoch: 0\n",
      "Alpha: 0.010000, Epsilon: 0.299982.\n"
     ]
    },
    {
     "name": "stderr",
     "output_type": "stream",
     "text": [
      "  5%|▌         | 1067/20000 [00:03<00:55, 343.65it/s]"
     ]
    },
    {
     "name": "stdout",
     "output_type": "stream",
     "text": [
      "Epoch: 1000\n",
      "Alpha: 0.009500, Epsilon: 0.281982.\n",
      "Last 10 max delta mean: 0.001583.\n"
     ]
    },
    {
     "name": "stderr",
     "output_type": "stream",
     "text": [
      " 10%|█         | 2066/20000 [00:06<00:51, 345.96it/s]"
     ]
    },
    {
     "name": "stdout",
     "output_type": "stream",
     "text": [
      "Epoch: 2000\n",
      "Alpha: 0.009000, Epsilon: 0.263982.\n",
      "Last 10 max delta mean: 0.000774.\n"
     ]
    },
    {
     "name": "stderr",
     "output_type": "stream",
     "text": [
      " 15%|█▌        | 3063/20000 [00:08<00:49, 343.05it/s]"
     ]
    },
    {
     "name": "stdout",
     "output_type": "stream",
     "text": [
      "Epoch: 3000\n",
      "Alpha: 0.008500, Epsilon: 0.245982.\n",
      "Last 10 max delta mean: 0.000404.\n"
     ]
    },
    {
     "name": "stderr",
     "output_type": "stream",
     "text": [
      " 21%|██        | 4107/20000 [00:11<00:44, 356.39it/s]"
     ]
    },
    {
     "name": "stdout",
     "output_type": "stream",
     "text": [
      "Epoch: 4000\n",
      "Alpha: 0.008000, Epsilon: 0.227982.\n",
      "Last 10 max delta mean: 0.000330.\n"
     ]
    },
    {
     "name": "stderr",
     "output_type": "stream",
     "text": [
      " 25%|██▌       | 5039/20000 [00:14<00:43, 347.57it/s]"
     ]
    },
    {
     "name": "stdout",
     "output_type": "stream",
     "text": [
      "Epoch: 5000\n",
      "Alpha: 0.007500, Epsilon: 0.209982.\n",
      "Last 10 max delta mean: 0.000255.\n"
     ]
    },
    {
     "name": "stderr",
     "output_type": "stream",
     "text": [
      " 30%|███       | 6069/20000 [00:17<00:39, 350.85it/s]"
     ]
    },
    {
     "name": "stdout",
     "output_type": "stream",
     "text": [
      "Epoch: 6000\n",
      "Alpha: 0.007000, Epsilon: 0.191982.\n",
      "Last 10 max delta mean: 0.000219.\n"
     ]
    },
    {
     "name": "stderr",
     "output_type": "stream",
     "text": [
      " 35%|███▌      | 7040/20000 [00:20<00:36, 351.82it/s]"
     ]
    },
    {
     "name": "stdout",
     "output_type": "stream",
     "text": [
      "Epoch: 7000\n",
      "Alpha: 0.006500, Epsilon: 0.173982.\n",
      "Last 10 max delta mean: 0.000289.\n"
     ]
    },
    {
     "name": "stderr",
     "output_type": "stream",
     "text": [
      " 40%|████      | 8054/20000 [00:23<00:37, 319.53it/s]"
     ]
    },
    {
     "name": "stdout",
     "output_type": "stream",
     "text": [
      "Epoch: 8000\n",
      "Alpha: 0.006000, Epsilon: 0.155982.\n",
      "Last 10 max delta mean: 0.000227.\n"
     ]
    },
    {
     "name": "stderr",
     "output_type": "stream",
     "text": [
      " 45%|████▌     | 9063/20000 [00:26<00:31, 349.06it/s]"
     ]
    },
    {
     "name": "stdout",
     "output_type": "stream",
     "text": [
      "Epoch: 9000\n",
      "Alpha: 0.005500, Epsilon: 0.137982.\n",
      "Last 10 max delta mean: 0.000295.\n"
     ]
    },
    {
     "name": "stderr",
     "output_type": "stream",
     "text": [
      " 50%|█████     | 10050/20000 [00:29<00:28, 345.44it/s]"
     ]
    },
    {
     "name": "stdout",
     "output_type": "stream",
     "text": [
      "Epoch: 10000\n",
      "Alpha: 0.005000, Epsilon: 0.119982.\n",
      "Last 10 max delta mean: 0.000248.\n"
     ]
    },
    {
     "name": "stderr",
     "output_type": "stream",
     "text": [
      " 55%|█████▌    | 11050/20000 [00:32<00:25, 345.20it/s]"
     ]
    },
    {
     "name": "stdout",
     "output_type": "stream",
     "text": [
      "Epoch: 11000\n",
      "Alpha: 0.004500, Epsilon: 0.101982.\n",
      "Last 10 max delta mean: 0.000223.\n"
     ]
    },
    {
     "name": "stderr",
     "output_type": "stream",
     "text": [
      " 60%|██████    | 12073/20000 [00:35<00:22, 351.32it/s]"
     ]
    },
    {
     "name": "stdout",
     "output_type": "stream",
     "text": [
      "Epoch: 12000\n",
      "Alpha: 0.004000, Epsilon: 0.083982.\n",
      "Last 10 max delta mean: 0.000203.\n"
     ]
    },
    {
     "name": "stderr",
     "output_type": "stream",
     "text": [
      " 65%|██████▌   | 13038/20000 [00:37<00:20, 342.05it/s]"
     ]
    },
    {
     "name": "stdout",
     "output_type": "stream",
     "text": [
      "Epoch: 13000\n",
      "Alpha: 0.003500, Epsilon: 0.065982.\n",
      "Last 10 max delta mean: 0.000222.\n"
     ]
    },
    {
     "name": "stderr",
     "output_type": "stream",
     "text": [
      " 70%|███████   | 14054/20000 [00:40<00:19, 310.48it/s]"
     ]
    },
    {
     "name": "stdout",
     "output_type": "stream",
     "text": [
      "Epoch: 14000\n",
      "Alpha: 0.003000, Epsilon: 0.047982.\n",
      "Last 10 max delta mean: 0.000230.\n"
     ]
    },
    {
     "name": "stderr",
     "output_type": "stream",
     "text": [
      " 75%|███████▌  | 15042/20000 [00:43<00:14, 353.18it/s]"
     ]
    },
    {
     "name": "stdout",
     "output_type": "stream",
     "text": [
      "Epoch: 15000\n",
      "Alpha: 0.002500, Epsilon: 0.029982.\n",
      "Last 10 max delta mean: 0.000227.\n"
     ]
    },
    {
     "name": "stderr",
     "output_type": "stream",
     "text": [
      " 80%|████████  | 16041/20000 [00:46<00:11, 350.78it/s]"
     ]
    },
    {
     "name": "stdout",
     "output_type": "stream",
     "text": [
      "Epoch: 16000\n",
      "Alpha: 0.002000, Epsilon: 0.011982.\n",
      "Last 10 max delta mean: 0.000217.\n"
     ]
    },
    {
     "name": "stderr",
     "output_type": "stream",
     "text": [
      " 85%|████████▌ | 17062/20000 [00:49<00:08, 339.66it/s]"
     ]
    },
    {
     "name": "stdout",
     "output_type": "stream",
     "text": [
      "Epoch: 17000\n",
      "Alpha: 0.001500, Epsilon: 0.000000.\n",
      "Last 10 max delta mean: 0.000174.\n"
     ]
    },
    {
     "name": "stderr",
     "output_type": "stream",
     "text": [
      " 90%|█████████ | 18045/20000 [00:52<00:05, 348.82it/s]"
     ]
    },
    {
     "name": "stdout",
     "output_type": "stream",
     "text": [
      "Epoch: 18000\n",
      "Alpha: 0.001000, Epsilon: 0.000000.\n",
      "Last 10 max delta mean: 0.000194.\n"
     ]
    },
    {
     "name": "stderr",
     "output_type": "stream",
     "text": [
      " 95%|█████████▌| 19073/20000 [00:55<00:02, 352.82it/s]"
     ]
    },
    {
     "name": "stdout",
     "output_type": "stream",
     "text": [
      "Epoch: 19000\n",
      "Alpha: 0.000500, Epsilon: 0.000000.\n",
      "Last 10 max delta mean: 0.000229.\n"
     ]
    },
    {
     "name": "stderr",
     "output_type": "stream",
     "text": [
      "100%|██████████| 20000/20000 [00:58<00:00, 344.01it/s]\n"
     ]
    },
    {
     "data": {
      "text/html": [
       "<div>\n",
       "<style scoped>\n",
       "    .dataframe tbody tr th:only-of-type {\n",
       "        vertical-align: middle;\n",
       "    }\n",
       "\n",
       "    .dataframe tbody tr th {\n",
       "        vertical-align: top;\n",
       "    }\n",
       "\n",
       "    .dataframe thead th {\n",
       "        text-align: right;\n",
       "    }\n",
       "</style>\n",
       "<table border=\"1\" class=\"dataframe\">\n",
       "  <thead>\n",
       "    <tr style=\"text-align: right;\">\n",
       "      <th></th>\n",
       "      <th>0.00</th>\n",
       "      <th>0.20</th>\n",
       "      <th>0.40</th>\n",
       "      <th>0.60</th>\n",
       "      <th>0.80</th>\n",
       "      <th>1.00</th>\n",
       "    </tr>\n",
       "  </thead>\n",
       "  <tbody>\n",
       "    <tr>\n",
       "      <th>0</th>\n",
       "      <td>-0.682006</td>\n",
       "      <td>-0.685543</td>\n",
       "      <td>-0.688727</td>\n",
       "      <td>-0.690608</td>\n",
       "      <td>-0.693962</td>\n",
       "      <td>-0.697076</td>\n",
       "    </tr>\n",
       "    <tr>\n",
       "      <th>1</th>\n",
       "      <td>-0.656924</td>\n",
       "      <td>-0.660267</td>\n",
       "      <td>-0.664424</td>\n",
       "      <td>-0.666809</td>\n",
       "      <td>-0.670871</td>\n",
       "      <td>-0.672643</td>\n",
       "    </tr>\n",
       "    <tr>\n",
       "      <th>2</th>\n",
       "      <td>-0.632014</td>\n",
       "      <td>-0.634821</td>\n",
       "      <td>-0.639719</td>\n",
       "      <td>-0.640920</td>\n",
       "      <td>-0.645231</td>\n",
       "      <td>-0.649841</td>\n",
       "    </tr>\n",
       "    <tr>\n",
       "      <th>3</th>\n",
       "      <td>-0.605579</td>\n",
       "      <td>-0.610874</td>\n",
       "      <td>-0.612040</td>\n",
       "      <td>-0.615374</td>\n",
       "      <td>-0.619357</td>\n",
       "      <td>-0.620827</td>\n",
       "    </tr>\n",
       "    <tr>\n",
       "      <th>4</th>\n",
       "      <td>-0.578458</td>\n",
       "      <td>-0.583528</td>\n",
       "      <td>-0.583977</td>\n",
       "      <td>-0.587855</td>\n",
       "      <td>-0.591624</td>\n",
       "      <td>-0.591503</td>\n",
       "    </tr>\n",
       "    <tr>\n",
       "      <th>5</th>\n",
       "      <td>-0.546740</td>\n",
       "      <td>-0.554242</td>\n",
       "      <td>-0.556918</td>\n",
       "      <td>-0.558827</td>\n",
       "      <td>-0.559891</td>\n",
       "      <td>-0.562162</td>\n",
       "    </tr>\n",
       "    <tr>\n",
       "      <th>6</th>\n",
       "      <td>-0.509344</td>\n",
       "      <td>-0.516824</td>\n",
       "      <td>-0.516827</td>\n",
       "      <td>-0.520228</td>\n",
       "      <td>-0.525905</td>\n",
       "      <td>-0.527796</td>\n",
       "    </tr>\n",
       "    <tr>\n",
       "      <th>7</th>\n",
       "      <td>-0.457559</td>\n",
       "      <td>-0.465498</td>\n",
       "      <td>-0.466033</td>\n",
       "      <td>-0.471464</td>\n",
       "      <td>-0.472566</td>\n",
       "      <td>-0.475901</td>\n",
       "    </tr>\n",
       "    <tr>\n",
       "      <th>8</th>\n",
       "      <td>-0.378701</td>\n",
       "      <td>-0.386397</td>\n",
       "      <td>-0.387881</td>\n",
       "      <td>-0.389120</td>\n",
       "      <td>-0.392337</td>\n",
       "      <td>-0.396310</td>\n",
       "    </tr>\n",
       "    <tr>\n",
       "      <th>9</th>\n",
       "      <td>-0.244378</td>\n",
       "      <td>-0.250981</td>\n",
       "      <td>-0.251788</td>\n",
       "      <td>-0.257291</td>\n",
       "      <td>-0.256563</td>\n",
       "      <td>-0.258630</td>\n",
       "    </tr>\n",
       "    <tr>\n",
       "      <th>10</th>\n",
       "      <td>0.000000</td>\n",
       "      <td>0.000000</td>\n",
       "      <td>0.000000</td>\n",
       "      <td>0.000000</td>\n",
       "      <td>0.000000</td>\n",
       "      <td>0.000000</td>\n",
       "    </tr>\n",
       "  </tbody>\n",
       "</table>\n",
       "</div>"
      ],
      "text/plain": [
       "        0.00      0.20      0.40      0.60      0.80      1.00\n",
       "0  -0.682006 -0.685543 -0.688727 -0.690608 -0.693962 -0.697076\n",
       "1  -0.656924 -0.660267 -0.664424 -0.666809 -0.670871 -0.672643\n",
       "2  -0.632014 -0.634821 -0.639719 -0.640920 -0.645231 -0.649841\n",
       "3  -0.605579 -0.610874 -0.612040 -0.615374 -0.619357 -0.620827\n",
       "4  -0.578458 -0.583528 -0.583977 -0.587855 -0.591624 -0.591503\n",
       "5  -0.546740 -0.554242 -0.556918 -0.558827 -0.559891 -0.562162\n",
       "6  -0.509344 -0.516824 -0.516827 -0.520228 -0.525905 -0.527796\n",
       "7  -0.457559 -0.465498 -0.466033 -0.471464 -0.472566 -0.475901\n",
       "8  -0.378701 -0.386397 -0.387881 -0.389120 -0.392337 -0.396310\n",
       "9  -0.244378 -0.250981 -0.251788 -0.257291 -0.256563 -0.258630\n",
       "10  0.000000  0.000000  0.000000  0.000000  0.000000  0.000000"
      ]
     },
     "metadata": {},
     "output_type": "display_data"
    },
    {
     "name": "stdout",
     "output_type": "stream",
     "text": [
      "Optimal policy:\n",
      "0     0.00\n",
      "1     0.00\n",
      "2     0.00\n",
      "3     0.00\n",
      "4     0.00\n",
      "5     0.00\n",
      "6     0.00\n",
      "7     0.00\n",
      "8     0.00\n",
      "9     0.00\n",
      "10    0.00\n",
      "dtype: object\n"
     ]
    }
   ],
   "source": [
    "from mdp_agent.policy import Policy\n",
    "from mdp_agent.action_space import ActionSpace\n",
    "from mdp_env.risky_asset import RiskyAsset\n",
    "from mdp_env.risk_free_asset import RiskFreeAsset\n",
    "from mdp_env.train import train\n",
    "from mdp_env.reward import reward_eval\n",
    "import numpy as np\n",
    "from decimal import Decimal\n",
    "\n",
    "\n",
    "# Parameters Configuration\n",
    "EPOCHS = 20000\n",
    "# Total time periods\n",
    "T = 10\n",
    "# init for epsilon-greedy\n",
    "INIT_EPSILON = 0.3\n",
    "# init for learning rate\n",
    "INIT_ALPHA = 0.01\n",
    "# state space: this is dependent on time, per section 8.4 of Rao and Jelvis.\n",
    "states = np.arange(0, T + 1, 1)\n",
    "# action space\n",
    "actions = ActionSpace(\n",
    "    Decimal(\"0\"),\n",
    "    Decimal(\"1.0\"),\n",
    "    Decimal(\"0.2\"))\n",
    "# policy\n",
    "policy = Policy(\n",
    "    epochs=EPOCHS,\n",
    "    init_epsilon=INIT_EPSILON,\n",
    "    init_alpha=INIT_ALPHA,\n",
    "    state_space=states,\n",
    "    action_space=actions,\n",
    "    training=True\n",
    ")\n",
    "# assets\n",
    "risky_asset = RiskyAsset(0.04, -0.04, 0.5)\n",
    "risk_free_asset = RiskFreeAsset(0.04)\n",
    "# CARA Coefficient\n",
    "CARA_COEF = 1\n",
    "\n",
    "\n",
    "train(\n",
    "    epochs=EPOCHS,\n",
    "    T=T,\n",
    "    risky_asset=risky_asset,\n",
    "    risk_free_asset=risk_free_asset,\n",
    "    policy=policy,\n",
    "    reward_eval=reward_eval,\n",
    "    cara_coef=CARA_COEF,\n",
    "    early_stopping=1e-4\n",
    ")\n",
    "\n",
    "display(policy.q_table)\n",
    "\n",
    "print(\"Optimal policy:\")\n",
    "policy.print()\n"
   ]
  }
 ],
 "metadata": {
  "kernelspec": {
   "display_name": "6000m_a1",
   "language": "python",
   "name": "python3"
  },
  "language_info": {
   "codemirror_mode": {
    "name": "ipython",
    "version": 3
   },
   "file_extension": ".py",
   "mimetype": "text/x-python",
   "name": "python",
   "nbconvert_exporter": "python",
   "pygments_lexer": "ipython3",
   "version": "3.12.7"
  }
 },
 "nbformat": 4,
 "nbformat_minor": 2
}
